{
  "nbformat": 4,
  "nbformat_minor": 0,
  "metadata": {
    "colab": {
      "name": "1_network_cc_word_inner_id_unique.ipynb",
      "provenance": [],
      "authorship_tag": "ABX9TyNqL92xEIUHq6vEA/kMBJ6o",
      "include_colab_link": true
    },
    "kernelspec": {
      "name": "python3",
      "display_name": "Python 3"
    }
  },
  "cells": [
    {
      "cell_type": "markdown",
      "metadata": {
        "id": "view-in-github",
        "colab_type": "text"
      },
      "source": [
        "<a href=\"https://colab.research.google.com/github/Sjing2/SJ_project/blob/master/%5B%EB%94%A5%EB%9F%AC%EB%8B%9D%20%ED%94%84%EB%A1%9C%EC%A0%9D%ED%8A%B8%5D%EC%9D%B8%EC%8A%A4%ED%83%80%EA%B7%B8%EB%9E%A8%20%ED%94%84%EB%A1%9C%ED%8C%8C%EC%9D%BC%EB%A7%81/network_analysis/1_network_cc_word_inner_id_unique.ipynb\" target=\"_parent\"><img src=\"https://colab.research.google.com/assets/colab-badge.svg\" alt=\"Open In Colab\"/></a>"
      ]
    },
    {
      "cell_type": "code",
      "metadata": {
        "id": "AZYgM2-5H0XE",
        "colab_type": "code",
        "colab": {
          "base_uri": "https://localhost:8080/",
          "height": 125
        },
        "outputId": "52e6677b-4cfa-4ca6-c21e-1b862096c081"
      },
      "source": [
        "from google.colab import drive\n",
        "drive.mount('/content/gdrive/')"
      ],
      "execution_count": 1,
      "outputs": [
        {
          "output_type": "stream",
          "text": [
            "Go to this URL in a browser: https://accounts.google.com/o/oauth2/auth?client_id=947318989803-6bn6qk8qdgf4n4g3pfee6491hc0brc4i.apps.googleusercontent.com&redirect_uri=urn%3aietf%3awg%3aoauth%3a2.0%3aoob&scope=email%20https%3a%2f%2fwww.googleapis.com%2fauth%2fdocs.test%20https%3a%2f%2fwww.googleapis.com%2fauth%2fdrive%20https%3a%2f%2fwww.googleapis.com%2fauth%2fdrive.photos.readonly%20https%3a%2f%2fwww.googleapis.com%2fauth%2fpeopleapi.readonly&response_type=code\n",
            "\n",
            "Enter your authorization code:\n",
            "··········\n",
            "Mounted at /content/gdrive/\n"
          ],
          "name": "stdout"
        }
      ]
    },
    {
      "cell_type": "code",
      "metadata": {
        "id": "gQKm711jH1tB",
        "colab_type": "code",
        "colab": {}
      },
      "source": [
        "import pandas as pd\n",
        "import numpy as np"
      ],
      "execution_count": 2,
      "outputs": []
    },
    {
      "cell_type": "code",
      "metadata": {
        "id": "6cd49FM3H1vO",
        "colab_type": "code",
        "colab": {}
      },
      "source": [
        "df = pd.read_csv('/content/gdrive/My Drive/인스타그램_프로파일링/Relation(start, end)/cc_2.csv')"
      ],
      "execution_count": 3,
      "outputs": []
    },
    {
      "cell_type": "code",
      "metadata": {
        "id": "DcQPHvZuH1xW",
        "colab_type": "code",
        "colab": {
          "base_uri": "https://localhost:8080/",
          "height": 402
        },
        "outputId": "3eb82310-5e25-4ae5-e080-aaf06729eac7"
      },
      "source": [
        "df"
      ],
      "execution_count": 4,
      "outputs": [
        {
          "output_type": "execute_result",
          "data": {
            "text/html": [
              "<div>\n",
              "<style scoped>\n",
              "    .dataframe tbody tr th:only-of-type {\n",
              "        vertical-align: middle;\n",
              "    }\n",
              "\n",
              "    .dataframe tbody tr th {\n",
              "        vertical-align: top;\n",
              "    }\n",
              "\n",
              "    .dataframe thead th {\n",
              "        text-align: right;\n",
              "    }\n",
              "</style>\n",
              "<table border=\"1\" class=\"dataframe\">\n",
              "  <thead>\n",
              "    <tr style=\"text-align: right;\">\n",
              "      <th></th>\n",
              "      <th>start</th>\n",
              "      <th>end</th>\n",
              "    </tr>\n",
              "  </thead>\n",
              "  <tbody>\n",
              "    <tr>\n",
              "      <th>0</th>\n",
              "      <td>13580068590</td>\n",
              "      <td>27733156208</td>\n",
              "    </tr>\n",
              "    <tr>\n",
              "      <th>1</th>\n",
              "      <td>13337514500</td>\n",
              "      <td>27733156208</td>\n",
              "    </tr>\n",
              "    <tr>\n",
              "      <th>2</th>\n",
              "      <td>27961899505</td>\n",
              "      <td>27733156208</td>\n",
              "    </tr>\n",
              "    <tr>\n",
              "      <th>3</th>\n",
              "      <td>5772973535</td>\n",
              "      <td>27733156208</td>\n",
              "    </tr>\n",
              "    <tr>\n",
              "      <th>4</th>\n",
              "      <td>27733156208</td>\n",
              "      <td>13580068590</td>\n",
              "    </tr>\n",
              "    <tr>\n",
              "      <th>...</th>\n",
              "      <td>...</td>\n",
              "      <td>...</td>\n",
              "    </tr>\n",
              "    <tr>\n",
              "      <th>10530</th>\n",
              "      <td>3188424467</td>\n",
              "      <td>5557754898</td>\n",
              "    </tr>\n",
              "    <tr>\n",
              "      <th>10531</th>\n",
              "      <td>3188424467</td>\n",
              "      <td>5763414441</td>\n",
              "    </tr>\n",
              "    <tr>\n",
              "      <th>10532</th>\n",
              "      <td>3188424467</td>\n",
              "      <td>31450672398</td>\n",
              "    </tr>\n",
              "    <tr>\n",
              "      <th>10533</th>\n",
              "      <td>3188424467</td>\n",
              "      <td>3685838615</td>\n",
              "    </tr>\n",
              "    <tr>\n",
              "      <th>10534</th>\n",
              "      <td>3188424467</td>\n",
              "      <td>1435555268</td>\n",
              "    </tr>\n",
              "  </tbody>\n",
              "</table>\n",
              "<p>10535 rows × 2 columns</p>\n",
              "</div>"
            ],
            "text/plain": [
              "             start          end\n",
              "0      13580068590  27733156208\n",
              "1      13337514500  27733156208\n",
              "2      27961899505  27733156208\n",
              "3       5772973535  27733156208\n",
              "4      27733156208  13580068590\n",
              "...            ...          ...\n",
              "10530   3188424467   5557754898\n",
              "10531   3188424467   5763414441\n",
              "10532   3188424467  31450672398\n",
              "10533   3188424467   3685838615\n",
              "10534   3188424467   1435555268\n",
              "\n",
              "[10535 rows x 2 columns]"
            ]
          },
          "metadata": {
            "tags": []
          },
          "execution_count": 4
        }
      ]
    },
    {
      "cell_type": "code",
      "metadata": {
        "id": "IFS-7b6LH1zr",
        "colab_type": "code",
        "colab": {}
      },
      "source": [
        "final_df = pd.read_csv('/content/gdrive/My Drive/인스타그램_프로파일링/Post/Delete(foreign, over1000)/3. delete_businessword/cc_word.csv')"
      ],
      "execution_count": 5,
      "outputs": []
    },
    {
      "cell_type": "code",
      "metadata": {
        "id": "o471tPhvH14G",
        "colab_type": "code",
        "colab": {
          "base_uri": "https://localhost:8080/",
          "height": 1000
        },
        "outputId": "4e833870-0833-49f5-9a09-8571ab39682b"
      },
      "source": [
        "final_df"
      ],
      "execution_count": 6,
      "outputs": [
        {
          "output_type": "execute_result",
          "data": {
            "text/html": [
              "<div>\n",
              "<style scoped>\n",
              "    .dataframe tbody tr th:only-of-type {\n",
              "        vertical-align: middle;\n",
              "    }\n",
              "\n",
              "    .dataframe tbody tr th {\n",
              "        vertical-align: top;\n",
              "    }\n",
              "\n",
              "    .dataframe thead th {\n",
              "        text-align: right;\n",
              "    }\n",
              "</style>\n",
              "<table border=\"1\" class=\"dataframe\">\n",
              "  <thead>\n",
              "    <tr style=\"text-align: right;\">\n",
              "      <th></th>\n",
              "      <th>insta_id</th>\n",
              "      <th>inner_id</th>\n",
              "      <th>post_date</th>\n",
              "      <th>url</th>\n",
              "      <th>content</th>\n",
              "      <th>media_url</th>\n",
              "      <th>hashtag</th>\n",
              "      <th>region_tag</th>\n",
              "      <th>like_count</th>\n",
              "      <th>view_count</th>\n",
              "      <th>crawling_time</th>\n",
              "      <th>team_idx</th>\n",
              "      <th>next_page</th>\n",
              "    </tr>\n",
              "  </thead>\n",
              "  <tbody>\n",
              "    <tr>\n",
              "      <th>0</th>\n",
              "      <td>jjjjy_o.o</td>\n",
              "      <td>1582899</td>\n",
              "      <td>2020-08-28 11:57:07</td>\n",
              "      <td>https://www.instagram.com/p/CEasJz1JPgQ/</td>\n",
              "      <td>냅킨은 이렇게 하는거죠 😏 ....</td>\n",
              "      <td>https://scontent-gmp1-1.cdninstagram.com/v/t51...</td>\n",
              "      <td>#부산 #부산여행 #해운대 #시그니엘부산 #시그니엘라운지 #시그니엘 #라운지 #커피...</td>\n",
              "      <td>부산 해운대</td>\n",
              "      <td>76</td>\n",
              "      <td>NaN</td>\n",
              "      <td>2020-08-31 03:32:07</td>\n",
              "      <td>4</td>\n",
              "      <td>https://www.instagram.com/graphql/query/?query...</td>\n",
              "    </tr>\n",
              "    <tr>\n",
              "      <th>1</th>\n",
              "      <td>jjjjy_o.o</td>\n",
              "      <td>1582899</td>\n",
              "      <td>2020-08-27 18:58:06</td>\n",
              "      <td>https://www.instagram.com/p/CEY3iR2pr-l/</td>\n",
              "      <td>코스가 아니고 세트라며 음식이 한번에 나와서 당황했지만 맛있었음 .....</td>\n",
              "      <td>https://scontent-gmp1-1.cdninstagram.com/v/t51...</td>\n",
              "      <td>#시그니엘부산 #차오란</td>\n",
              "      <td>차오란</td>\n",
              "      <td>69</td>\n",
              "      <td>NaN</td>\n",
              "      <td>2020-08-31 03:32:08</td>\n",
              "      <td>4</td>\n",
              "      <td>https://www.instagram.com/graphql/query/?query...</td>\n",
              "    </tr>\n",
              "    <tr>\n",
              "      <th>2</th>\n",
              "      <td>jjjjy_o.o</td>\n",
              "      <td>1582899</td>\n",
              "      <td>2020-08-27 12:59:32</td>\n",
              "      <td>https://www.instagram.com/p/CEYOgJUJ1KR/</td>\n",
              "      <td>더워서 해변은 못 다니고 바라보기만 😊 .....</td>\n",
              "      <td>https://scontent-gmp1-1.cdninstagram.com/v/t51...</td>\n",
              "      <td>#시그니엘</td>\n",
              "      <td>시그니엘부산</td>\n",
              "      <td>68</td>\n",
              "      <td>NaN</td>\n",
              "      <td>2020-08-31 03:32:08</td>\n",
              "      <td>4</td>\n",
              "      <td>https://www.instagram.com/graphql/query/?query...</td>\n",
              "    </tr>\n",
              "    <tr>\n",
              "      <th>3</th>\n",
              "      <td>jjjjy_o.o</td>\n",
              "      <td>1582899</td>\n",
              "      <td>2020-08-26 23:32:43</td>\n",
              "      <td>https://www.instagram.com/p/CEWyKvgJE1C/</td>\n",
              "      <td>굿나잇💫</td>\n",
              "      <td>https://scontent-gmp1-1.cdninstagram.com/v/t51...</td>\n",
              "      <td>#반신욕 #족샷</td>\n",
              "      <td>시그니엘부산</td>\n",
              "      <td>50</td>\n",
              "      <td>NaN</td>\n",
              "      <td>2020-08-31 03:32:08</td>\n",
              "      <td>4</td>\n",
              "      <td>https://www.instagram.com/graphql/query/?query...</td>\n",
              "    </tr>\n",
              "    <tr>\n",
              "      <th>4</th>\n",
              "      <td>jjjjy_o.o</td>\n",
              "      <td>1582899</td>\n",
              "      <td>2020-08-26 20:31:58</td>\n",
              "      <td>https://www.instagram.com/p/CEWde7hJDk1/</td>\n",
              "      <td>광안대교 야경보러 🌉</td>\n",
              "      <td>https://scontent-gmp1-1.cdninstagram.com/v/t51...</td>\n",
              "      <td>#광안대교야경</td>\n",
              "      <td>부산 광안리해수욕장 - 廣安里海水浴場 GwangalliBeach, Busan, So...</td>\n",
              "      <td>78</td>\n",
              "      <td>NaN</td>\n",
              "      <td>2020-08-31 03:32:08</td>\n",
              "      <td>4</td>\n",
              "      <td>https://www.instagram.com/graphql/query/?query...</td>\n",
              "    </tr>\n",
              "    <tr>\n",
              "      <th>...</th>\n",
              "      <td>...</td>\n",
              "      <td>...</td>\n",
              "      <td>...</td>\n",
              "      <td>...</td>\n",
              "      <td>...</td>\n",
              "      <td>...</td>\n",
              "      <td>...</td>\n",
              "      <td>...</td>\n",
              "      <td>...</td>\n",
              "      <td>...</td>\n",
              "      <td>...</td>\n",
              "      <td>...</td>\n",
              "      <td>...</td>\n",
              "    </tr>\n",
              "    <tr>\n",
              "      <th>22370</th>\n",
              "      <td>heeboulder</td>\n",
              "      <td>39901859586</td>\n",
              "      <td>2020-08-04 21:45:05</td>\n",
              "      <td>https://www.instagram.com/p/CDd8XJ4Fm3Y/</td>\n",
              "      <td>200531 마두더클 두번째 방문!</td>\n",
              "      <td>https://scontent-gmp1-1.cdninstagram.com/v/t50...</td>\n",
              "      <td>#클라이밍 #climbing #볼더링 #bouldering</td>\n",
              "      <td>NaN</td>\n",
              "      <td>14</td>\n",
              "      <td>[17, 1, 0, 0]</td>\n",
              "      <td>2020-08-31 19:00:32</td>\n",
              "      <td>4</td>\n",
              "      <td>https://www.instagram.com/graphql/query/?query...</td>\n",
              "    </tr>\n",
              "    <tr>\n",
              "      <th>22371</th>\n",
              "      <td>heeboulder</td>\n",
              "      <td>39901859586</td>\n",
              "      <td>2020-08-04 21:38:55</td>\n",
              "      <td>https://www.instagram.com/p/CDd7qDAlaO3/</td>\n",
              "      <td>200425 클팍 첫 파랑 성공쓰! 갱장히 굼벵이처럼 움직...</td>\n",
              "      <td>https://scontent-gmp1-1.cdninstagram.com/v/t50...</td>\n",
              "      <td>#클라이밍 #climbing #볼더링 #bouldering</td>\n",
              "      <td>NaN</td>\n",
              "      <td>14</td>\n",
              "      <td>[13, 4]</td>\n",
              "      <td>2020-08-31 19:00:32</td>\n",
              "      <td>4</td>\n",
              "      <td>https://www.instagram.com/graphql/query/?query...</td>\n",
              "    </tr>\n",
              "    <tr>\n",
              "      <th>22372</th>\n",
              "      <td>heeboulder</td>\n",
              "      <td>39901859586</td>\n",
              "      <td>2020-08-04 21:36:01</td>\n",
              "      <td>https://www.instagram.com/p/CDd7U1IFXCu/</td>\n",
              "      <td>200411 첨으류 락클 초록이 성공쓰!!!!</td>\n",
              "      <td>https://scontent-gmp1-1.cdninstagram.com/v/t50...</td>\n",
              "      <td>#클라이밍 #climbing #볼더링 #bouldering</td>\n",
              "      <td>NaN</td>\n",
              "      <td>14</td>\n",
              "      <td>[13, 2, 1]</td>\n",
              "      <td>2020-08-31 19:00:32</td>\n",
              "      <td>4</td>\n",
              "      <td>https://www.instagram.com/graphql/query/?query...</td>\n",
              "    </tr>\n",
              "    <tr>\n",
              "      <th>22373</th>\n",
              "      <td>heeboulder</td>\n",
              "      <td>39901859586</td>\n",
              "      <td>2020-08-04 21:31:37</td>\n",
              "      <td>https://www.instagram.com/p/CDd60iUlSIr/</td>\n",
              "      <td>200222 청주락클 데이뚜💛</td>\n",
              "      <td>https://scontent-gmp1-1.cdninstagram.com/v/t50...</td>\n",
              "      <td>#클라이밍 #climbing #볼더링 #bouldering</td>\n",
              "      <td>NaN</td>\n",
              "      <td>15</td>\n",
              "      <td>[15, 1]</td>\n",
              "      <td>2020-08-31 19:00:32</td>\n",
              "      <td>4</td>\n",
              "      <td>https://www.instagram.com/graphql/query/?query...</td>\n",
              "    </tr>\n",
              "    <tr>\n",
              "      <th>22374</th>\n",
              "      <td>heeboulder</td>\n",
              "      <td>39901859586</td>\n",
              "      <td>2020-08-04 18:08:35</td>\n",
              "      <td>https://www.instagram.com/p/CDdjlfqlZEf/</td>\n",
              "      <td>200208 클팍 첫방문! 실패안한척 올리기</td>\n",
              "      <td>https://scontent-gmp1-1.cdninstagram.com/v/t50...</td>\n",
              "      <td>#클라이밍 #climbing #볼더링 #bouldering</td>\n",
              "      <td>NaN</td>\n",
              "      <td>19</td>\n",
              "      <td>[19, 0, 1, 3, 0]</td>\n",
              "      <td>2020-08-31 19:00:32</td>\n",
              "      <td>4</td>\n",
              "      <td>https://www.instagram.com/graphql/query/?query...</td>\n",
              "    </tr>\n",
              "  </tbody>\n",
              "</table>\n",
              "<p>22375 rows × 13 columns</p>\n",
              "</div>"
            ],
            "text/plain": [
              "         insta_id  ...                                          next_page\n",
              "0       jjjjy_o.o  ...  https://www.instagram.com/graphql/query/?query...\n",
              "1       jjjjy_o.o  ...  https://www.instagram.com/graphql/query/?query...\n",
              "2       jjjjy_o.o  ...  https://www.instagram.com/graphql/query/?query...\n",
              "3       jjjjy_o.o  ...  https://www.instagram.com/graphql/query/?query...\n",
              "4       jjjjy_o.o  ...  https://www.instagram.com/graphql/query/?query...\n",
              "...           ...  ...                                                ...\n",
              "22370  heeboulder  ...  https://www.instagram.com/graphql/query/?query...\n",
              "22371  heeboulder  ...  https://www.instagram.com/graphql/query/?query...\n",
              "22372  heeboulder  ...  https://www.instagram.com/graphql/query/?query...\n",
              "22373  heeboulder  ...  https://www.instagram.com/graphql/query/?query...\n",
              "22374  heeboulder  ...  https://www.instagram.com/graphql/query/?query...\n",
              "\n",
              "[22375 rows x 13 columns]"
            ]
          },
          "metadata": {
            "tags": []
          },
          "execution_count": 6
        }
      ]
    },
    {
      "cell_type": "code",
      "metadata": {
        "id": "zQa93MD9H12Q",
        "colab_type": "code",
        "colab": {
          "base_uri": "https://localhost:8080/",
          "height": 228
        },
        "outputId": "be499257-1743-4dc4-e8ce-3382e7624bd5"
      },
      "source": [
        "# 이너아이디를 뽑고 유니크한다음 이 사람들을 기준으로 스타트 엔드?\n",
        "inner_id = final_df['inner_id']\n",
        "inner_id"
      ],
      "execution_count": 7,
      "outputs": [
        {
          "output_type": "execute_result",
          "data": {
            "text/plain": [
              "0            1582899\n",
              "1            1582899\n",
              "2            1582899\n",
              "3            1582899\n",
              "4            1582899\n",
              "            ...     \n",
              "22370    39901859586\n",
              "22371    39901859586\n",
              "22372    39901859586\n",
              "22373    39901859586\n",
              "22374    39901859586\n",
              "Name: inner_id, Length: 22375, dtype: int64"
            ]
          },
          "metadata": {
            "tags": []
          },
          "execution_count": 7
        }
      ]
    },
    {
      "cell_type": "code",
      "metadata": {
        "id": "7xiAykn5JkL6",
        "colab_type": "code",
        "colab": {
          "base_uri": "https://localhost:8080/",
          "height": 52
        },
        "outputId": "fa3d3fce-f8f1-41fd-ea63-9162795f7fe4"
      },
      "source": [
        "i_id_unique = inner_id.unique()\n",
        "i_id_unique"
      ],
      "execution_count": 9,
      "outputs": [
        {
          "output_type": "execute_result",
          "data": {
            "text/plain": [
              "array([    1582899,     2797872,     2648672, ..., 39521089229,\n",
              "       39718579061, 39901859586])"
            ]
          },
          "metadata": {
            "tags": []
          },
          "execution_count": 9
        }
      ]
    },
    {
      "cell_type": "code",
      "metadata": {
        "id": "Jf_XR3_2JuTZ",
        "colab_type": "code",
        "colab": {
          "base_uri": "https://localhost:8080/",
          "height": 34
        },
        "outputId": "4e9a1991-bb8d-4f38-e93f-2b8666b4ae75"
      },
      "source": [
        "len(i_id_unique)"
      ],
      "execution_count": 10,
      "outputs": [
        {
          "output_type": "execute_result",
          "data": {
            "text/plain": [
              "1107"
            ]
          },
          "metadata": {
            "tags": []
          },
          "execution_count": 10
        }
      ]
    },
    {
      "cell_type": "code",
      "metadata": {
        "id": "d3sjq0u1KKJg",
        "colab_type": "code",
        "colab": {
          "base_uri": "https://localhost:8080/",
          "height": 402
        },
        "outputId": "77030c62-8419-467c-806a-8a3353a899d9"
      },
      "source": [
        "i_df = pd.DataFrame({'i_id_unique':i_id_unique})\n",
        "i_df"
      ],
      "execution_count": 11,
      "outputs": [
        {
          "output_type": "execute_result",
          "data": {
            "text/html": [
              "<div>\n",
              "<style scoped>\n",
              "    .dataframe tbody tr th:only-of-type {\n",
              "        vertical-align: middle;\n",
              "    }\n",
              "\n",
              "    .dataframe tbody tr th {\n",
              "        vertical-align: top;\n",
              "    }\n",
              "\n",
              "    .dataframe thead th {\n",
              "        text-align: right;\n",
              "    }\n",
              "</style>\n",
              "<table border=\"1\" class=\"dataframe\">\n",
              "  <thead>\n",
              "    <tr style=\"text-align: right;\">\n",
              "      <th></th>\n",
              "      <th>i_id_unique</th>\n",
              "    </tr>\n",
              "  </thead>\n",
              "  <tbody>\n",
              "    <tr>\n",
              "      <th>0</th>\n",
              "      <td>1582899</td>\n",
              "    </tr>\n",
              "    <tr>\n",
              "      <th>1</th>\n",
              "      <td>2797872</td>\n",
              "    </tr>\n",
              "    <tr>\n",
              "      <th>2</th>\n",
              "      <td>2648672</td>\n",
              "    </tr>\n",
              "    <tr>\n",
              "      <th>3</th>\n",
              "      <td>5965167</td>\n",
              "    </tr>\n",
              "    <tr>\n",
              "      <th>4</th>\n",
              "      <td>12457961</td>\n",
              "    </tr>\n",
              "    <tr>\n",
              "      <th>...</th>\n",
              "      <td>...</td>\n",
              "    </tr>\n",
              "    <tr>\n",
              "      <th>1102</th>\n",
              "      <td>39406024692</td>\n",
              "    </tr>\n",
              "    <tr>\n",
              "      <th>1103</th>\n",
              "      <td>39464646705</td>\n",
              "    </tr>\n",
              "    <tr>\n",
              "      <th>1104</th>\n",
              "      <td>39521089229</td>\n",
              "    </tr>\n",
              "    <tr>\n",
              "      <th>1105</th>\n",
              "      <td>39718579061</td>\n",
              "    </tr>\n",
              "    <tr>\n",
              "      <th>1106</th>\n",
              "      <td>39901859586</td>\n",
              "    </tr>\n",
              "  </tbody>\n",
              "</table>\n",
              "<p>1107 rows × 1 columns</p>\n",
              "</div>"
            ],
            "text/plain": [
              "      i_id_unique\n",
              "0         1582899\n",
              "1         2797872\n",
              "2         2648672\n",
              "3         5965167\n",
              "4        12457961\n",
              "...           ...\n",
              "1102  39406024692\n",
              "1103  39464646705\n",
              "1104  39521089229\n",
              "1105  39718579061\n",
              "1106  39901859586\n",
              "\n",
              "[1107 rows x 1 columns]"
            ]
          },
          "metadata": {
            "tags": []
          },
          "execution_count": 11
        }
      ]
    },
    {
      "cell_type": "code",
      "metadata": {
        "id": "RnT2ZYjqLCpc",
        "colab_type": "code",
        "colab": {}
      },
      "source": [
        "i_df.to_csv('/content/gdrive/My Drive/프로젝트/network/network_inner_id.csv', index=False)"
      ],
      "execution_count": 12,
      "outputs": []
    },
    {
      "cell_type": "code",
      "metadata": {
        "id": "VGF9f7WJLiST",
        "colab_type": "code",
        "colab": {}
      },
      "source": [
        ""
      ],
      "execution_count": null,
      "outputs": []
    }
  ]
}
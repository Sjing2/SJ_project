{
  "nbformat": 4,
  "nbformat_minor": 0,
  "metadata": {
    "colab": {
      "name": "[크롤링] 구글에서 이미지 가져오기",
      "provenance": [],
      "collapsed_sections": [],
      "toc_visible": true,
      "include_colab_link": true
    },
    "kernelspec": {
      "name": "python3",
      "display_name": "Python 3"
    }
  },
  "cells": [
    {
      "cell_type": "markdown",
      "metadata": {
        "id": "view-in-github",
        "colab_type": "text"
      },
      "source": [
        "<a href=\"https://colab.research.google.com/github/Sjing2/SJ_project/blob/master/%5B%ED%81%AC%EB%A1%A4%EB%A7%81%5D_%EA%B5%AC%EA%B8%80%EC%97%90%EC%84%9C_%EC%9D%B4%EB%AF%B8%EC%A7%80_%EA%B0%80%EC%A0%B8%EC%98%A4%EA%B8%B0.ipynb\" target=\"_parent\"><img src=\"https://colab.research.google.com/assets/colab-badge.svg\" alt=\"Open In Colab\"/></a>"
      ]
    },
    {
      "cell_type": "markdown",
      "metadata": {
        "id": "EEIp4jUlXLuj",
        "colab_type": "text"
      },
      "source": [
        "## 드라이브 mount"
      ]
    },
    {
      "cell_type": "code",
      "metadata": {
        "id": "hQPsOn_UTPRM",
        "colab_type": "code",
        "colab": {
          "base_uri": "https://localhost:8080/",
          "height": 124
        },
        "outputId": "64324003-f22a-438f-f911-fd3050b768be"
      },
      "source": [
        "from google.colab import drive\n",
        "drive.mount('/content/drive')"
      ],
      "execution_count": 1,
      "outputs": [
        {
          "output_type": "stream",
          "text": [
            "Go to this URL in a browser: https://accounts.google.com/o/oauth2/auth?client_id=947318989803-6bn6qk8qdgf4n4g3pfee6491hc0brc4i.apps.googleusercontent.com&redirect_uri=urn%3aietf%3awg%3aoauth%3a2.0%3aoob&response_type=code&scope=email%20https%3a%2f%2fwww.googleapis.com%2fauth%2fdocs.test%20https%3a%2f%2fwww.googleapis.com%2fauth%2fdrive%20https%3a%2f%2fwww.googleapis.com%2fauth%2fdrive.photos.readonly%20https%3a%2f%2fwww.googleapis.com%2fauth%2fpeopleapi.readonly\n",
            "\n",
            "Enter your authorization code:\n",
            "··········\n",
            "Mounted at /content/drive\n"
          ],
          "name": "stdout"
        }
      ]
    },
    {
      "cell_type": "code",
      "metadata": {
        "id": "jDeKIhwgaJaJ",
        "colab_type": "code",
        "colab": {}
      },
      "source": [
        "import requests\n",
        "from bs4 import BeautifulSoup\n",
        "import  urllib.request"
      ],
      "execution_count": 2,
      "outputs": []
    },
    {
      "cell_type": "markdown",
      "metadata": {
        "id": "NespglHIXasb",
        "colab_type": "text"
      },
      "source": [
        "#구글 이미지 크롤링"
      ]
    },
    {
      "cell_type": "code",
      "metadata": {
        "id": "hq4uCI4naSql",
        "colab_type": "code",
        "colab": {}
      },
      "source": [
        "img_urls=[]\n",
        "\n",
        "a=1\n",
        "\n",
        "for start in range(50): #갯수 조정\n",
        "    url = \"https://www.google.com/search?q=%ED%99%94%EC%9E%A5+%EC%A0%84%ED%9B%84&bih=913&biw=742&gbv=1&tbm=isch&start={}&sa=N\".format(start*20) #q=(여기에 검색어 입력)&bih\n",
        "    res = requests.get(url)\n",
        "    bs = BeautifulSoup(res.content, 'lxml')\n",
        "\n",
        "    for i in bs.select(\"div.RAyV4b img\"):\n",
        "        img_urls.append(i.attrs[\"src\"])\n",
        "\n",
        "for img_url in img_urls:\n",
        "        urllib.request.urlretrieve(img_url, \"/content/drive/My Drive/[github] 프로젝트 코드 정리/머신러닝\" + str(a) + \".jpg\")\n",
        "        a+=1\n"
      ],
      "execution_count": 3,
      "outputs": []
    }
  ]
}
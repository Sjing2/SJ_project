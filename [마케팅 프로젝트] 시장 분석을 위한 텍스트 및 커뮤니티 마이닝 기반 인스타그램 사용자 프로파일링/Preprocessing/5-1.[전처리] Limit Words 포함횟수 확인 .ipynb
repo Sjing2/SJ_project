{
  "nbformat": 4,
  "nbformat_minor": 0,
  "metadata": {
    "colab": {
      "name": "9-1.[전처리] Limit Words 포함 횟수 확인.ipynb",
      "provenance": [],
      "authorship_tag": "ABX9TyP/ec0tIutlHZ2afDR86TXD",
      "include_colab_link": true
    },
    "kernelspec": {
      "name": "python3",
      "display_name": "Python 3"
    }
  },
  "cells": [
    {
      "cell_type": "markdown",
      "metadata": {
        "id": "view-in-github",
        "colab_type": "text"
      },
      "source": [
        "<a href=\"https://colab.research.google.com/github/Sjing2/SJ_project/blob/master/%5B%EB%A7%88%EC%BC%80%ED%8C%85%20%ED%94%84%EB%A1%9C%EC%A0%9D%ED%8A%B8%5D%20%EC%8B%9C%EC%9E%A5%20%EB%B6%84%EC%84%9D%EC%9D%84%20%EC%9C%84%ED%95%9C%20%ED%85%8D%EC%8A%A4%ED%8A%B8%20%EB%B0%8F%20%EC%BB%A4%EB%AE%A4%EB%8B%88%ED%8B%B0%20%EB%A7%88%EC%9D%B4%EB%8B%9D%20%EA%B8%B0%EB%B0%98%20%EC%9D%B8%EC%8A%A4%ED%83%80%EA%B7%B8%EB%9E%A8%20%EC%82%AC%EC%9A%A9%EC%9E%90%20%ED%94%84%EB%A1%9C%ED%8C%8C%EC%9D%BC%EB%A7%81/9-1.%5B%EC%A0%84%EC%B2%98%EB%A6%AC%5D%20Limit%20Words%20%ED%8F%AC%ED%95%A8%ED%9A%9F%EC%88%98%20%ED%99%95%EC%9D%B8.ipynb\" target=\"_parent\"><img src=\"https://colab.research.google.com/assets/colab-badge.svg\" alt=\"Open In Colab\"/></a>"
      ]
    },
    {
      "cell_type": "code",
      "metadata": {
        "id": "DCvk1WLpIHxW"
      },
      "source": [
        "import pandas as pd"
      ],
      "execution_count": null,
      "outputs": []
    },
    {
      "cell_type": "code",
      "metadata": {
        "id": "XZHhZiQhITXa",
        "outputId": "566e2fc4-4bc7-4dd5-8c88-3a752f4aa14a",
        "colab": {
          "base_uri": "https://localhost:8080/",
          "height": 125
        }
      },
      "source": [
        "from google.colab import drive\n",
        "drive.mount('/content/gdrive/')"
      ],
      "execution_count": null,
      "outputs": [
        {
          "output_type": "stream",
          "text": [
            "Go to this URL in a browser: https://accounts.google.com/o/oauth2/auth?client_id=947318989803-6bn6qk8qdgf4n4g3pfee6491hc0brc4i.apps.googleusercontent.com&redirect_uri=urn%3aietf%3awg%3aoauth%3a2.0%3aoob&scope=email%20https%3a%2f%2fwww.googleapis.com%2fauth%2fdocs.test%20https%3a%2f%2fwww.googleapis.com%2fauth%2fdrive%20https%3a%2f%2fwww.googleapis.com%2fauth%2fdrive.photos.readonly%20https%3a%2f%2fwww.googleapis.com%2fauth%2fpeopleapi.readonly&response_type=code\n",
            "\n",
            "Enter your authorization code:\n",
            "··········\n",
            "Mounted at /content/gdrive/\n"
          ],
          "name": "stdout"
        }
      ]
    },
    {
      "cell_type": "code",
      "metadata": {
        "id": "tac7_c50IIdn"
      },
      "source": [
        "# 경로\n",
        "df = pd.read_csv('/content/gdrive/My Drive/인스타그램_프로파일링/Post/Delete(foreign, over1000)/cc_delete_over_1000.csv', index_col =[0])"
      ],
      "execution_count": null,
      "outputs": []
    },
    {
      "cell_type": "code",
      "metadata": {
        "id": "68gFYiM3K8DQ",
        "outputId": "ed9c390a-f492-457a-d6dd-5755930a6425",
        "colab": {
          "base_uri": "https://localhost:8080/",
          "height": 1000
        }
      },
      "source": [
        "df"
      ],
      "execution_count": null,
      "outputs": [
        {
          "output_type": "execute_result",
          "data": {
            "text/html": [
              "<div>\n",
              "<style scoped>\n",
              "    .dataframe tbody tr th:only-of-type {\n",
              "        vertical-align: middle;\n",
              "    }\n",
              "\n",
              "    .dataframe tbody tr th {\n",
              "        vertical-align: top;\n",
              "    }\n",
              "\n",
              "    .dataframe thead th {\n",
              "        text-align: right;\n",
              "    }\n",
              "</style>\n",
              "<table border=\"1\" class=\"dataframe\">\n",
              "  <thead>\n",
              "    <tr style=\"text-align: right;\">\n",
              "      <th></th>\n",
              "      <th>insta_id</th>\n",
              "      <th>inner_id</th>\n",
              "      <th>post_date</th>\n",
              "      <th>url</th>\n",
              "      <th>content</th>\n",
              "      <th>media_url</th>\n",
              "      <th>hashtag</th>\n",
              "      <th>region_tag</th>\n",
              "      <th>like_count</th>\n",
              "      <th>view_count</th>\n",
              "      <th>crawling_time</th>\n",
              "      <th>team_idx</th>\n",
              "      <th>next_page</th>\n",
              "    </tr>\n",
              "  </thead>\n",
              "  <tbody>\n",
              "    <tr>\n",
              "      <th>0</th>\n",
              "      <td>jjjjy_o.o</td>\n",
              "      <td>1582899</td>\n",
              "      <td>2020-08-28 11:57:07</td>\n",
              "      <td>https://www.instagram.com/p/CEasJz1JPgQ/</td>\n",
              "      <td>냅킨은 이렇게 하는거죠 😏 ....</td>\n",
              "      <td>https://scontent-gmp1-1.cdninstagram.com/v/t51...</td>\n",
              "      <td>#부산 #부산여행 #해운대 #시그니엘부산 #시그니엘라운지 #시그니엘 #라운지 #커피...</td>\n",
              "      <td>부산 해운대</td>\n",
              "      <td>76</td>\n",
              "      <td>NaN</td>\n",
              "      <td>2020-08-31 03:32:07</td>\n",
              "      <td>4</td>\n",
              "      <td>https://www.instagram.com/graphql/query/?query...</td>\n",
              "    </tr>\n",
              "    <tr>\n",
              "      <th>1</th>\n",
              "      <td>jjjjy_o.o</td>\n",
              "      <td>1582899</td>\n",
              "      <td>2020-08-27 18:58:06</td>\n",
              "      <td>https://www.instagram.com/p/CEY3iR2pr-l/</td>\n",
              "      <td>코스가 아니고 세트라며 음식이 한번에 나와서 당황했지만 맛있었음 .....</td>\n",
              "      <td>https://scontent-gmp1-1.cdninstagram.com/v/t51...</td>\n",
              "      <td>#시그니엘부산 #차오란</td>\n",
              "      <td>차오란</td>\n",
              "      <td>69</td>\n",
              "      <td>NaN</td>\n",
              "      <td>2020-08-31 03:32:08</td>\n",
              "      <td>4</td>\n",
              "      <td>https://www.instagram.com/graphql/query/?query...</td>\n",
              "    </tr>\n",
              "    <tr>\n",
              "      <th>2</th>\n",
              "      <td>jjjjy_o.o</td>\n",
              "      <td>1582899</td>\n",
              "      <td>2020-08-27 12:59:32</td>\n",
              "      <td>https://www.instagram.com/p/CEYOgJUJ1KR/</td>\n",
              "      <td>더워서 해변은 못 다니고 바라보기만 😊 .....</td>\n",
              "      <td>https://scontent-gmp1-1.cdninstagram.com/v/t51...</td>\n",
              "      <td>#시그니엘</td>\n",
              "      <td>시그니엘부산</td>\n",
              "      <td>68</td>\n",
              "      <td>NaN</td>\n",
              "      <td>2020-08-31 03:32:08</td>\n",
              "      <td>4</td>\n",
              "      <td>https://www.instagram.com/graphql/query/?query...</td>\n",
              "    </tr>\n",
              "    <tr>\n",
              "      <th>3</th>\n",
              "      <td>jjjjy_o.o</td>\n",
              "      <td>1582899</td>\n",
              "      <td>2020-08-26 23:32:43</td>\n",
              "      <td>https://www.instagram.com/p/CEWyKvgJE1C/</td>\n",
              "      <td>굿나잇💫</td>\n",
              "      <td>https://scontent-gmp1-1.cdninstagram.com/v/t51...</td>\n",
              "      <td>#반신욕 #족샷</td>\n",
              "      <td>시그니엘부산</td>\n",
              "      <td>50</td>\n",
              "      <td>NaN</td>\n",
              "      <td>2020-08-31 03:32:08</td>\n",
              "      <td>4</td>\n",
              "      <td>https://www.instagram.com/graphql/query/?query...</td>\n",
              "    </tr>\n",
              "    <tr>\n",
              "      <th>4</th>\n",
              "      <td>jjjjy_o.o</td>\n",
              "      <td>1582899</td>\n",
              "      <td>2020-08-26 20:31:58</td>\n",
              "      <td>https://www.instagram.com/p/CEWde7hJDk1/</td>\n",
              "      <td>광안대교 야경보러 🌉</td>\n",
              "      <td>https://scontent-gmp1-1.cdninstagram.com/v/t51...</td>\n",
              "      <td>#광안대교야경</td>\n",
              "      <td>부산 광안리해수욕장 - 廣安里海水浴場 GwangalliBeach, Busan, So...</td>\n",
              "      <td>78</td>\n",
              "      <td>NaN</td>\n",
              "      <td>2020-08-31 03:32:08</td>\n",
              "      <td>4</td>\n",
              "      <td>https://www.instagram.com/graphql/query/?query...</td>\n",
              "    </tr>\n",
              "    <tr>\n",
              "      <th>...</th>\n",
              "      <td>...</td>\n",
              "      <td>...</td>\n",
              "      <td>...</td>\n",
              "      <td>...</td>\n",
              "      <td>...</td>\n",
              "      <td>...</td>\n",
              "      <td>...</td>\n",
              "      <td>...</td>\n",
              "      <td>...</td>\n",
              "      <td>...</td>\n",
              "      <td>...</td>\n",
              "      <td>...</td>\n",
              "      <td>...</td>\n",
              "    </tr>\n",
              "    <tr>\n",
              "      <th>24664</th>\n",
              "      <td>heeboulder</td>\n",
              "      <td>39901859586</td>\n",
              "      <td>2020-08-04 21:45:05</td>\n",
              "      <td>https://www.instagram.com/p/CDd8XJ4Fm3Y/</td>\n",
              "      <td>200531 마두더클 두번째 방문!</td>\n",
              "      <td>https://scontent-gmp1-1.cdninstagram.com/v/t50...</td>\n",
              "      <td>#클라이밍 #climbing #볼더링 #bouldering</td>\n",
              "      <td>NaN</td>\n",
              "      <td>14</td>\n",
              "      <td>[17, 1, 0, 0]</td>\n",
              "      <td>2020-08-31 19:00:32</td>\n",
              "      <td>4</td>\n",
              "      <td>https://www.instagram.com/graphql/query/?query...</td>\n",
              "    </tr>\n",
              "    <tr>\n",
              "      <th>24665</th>\n",
              "      <td>heeboulder</td>\n",
              "      <td>39901859586</td>\n",
              "      <td>2020-08-04 21:38:55</td>\n",
              "      <td>https://www.instagram.com/p/CDd7qDAlaO3/</td>\n",
              "      <td>200425 클팍 첫 파랑 성공쓰! 갱장히 굼벵이처럼 움직...</td>\n",
              "      <td>https://scontent-gmp1-1.cdninstagram.com/v/t50...</td>\n",
              "      <td>#클라이밍 #climbing #볼더링 #bouldering</td>\n",
              "      <td>NaN</td>\n",
              "      <td>14</td>\n",
              "      <td>[13, 4]</td>\n",
              "      <td>2020-08-31 19:00:32</td>\n",
              "      <td>4</td>\n",
              "      <td>https://www.instagram.com/graphql/query/?query...</td>\n",
              "    </tr>\n",
              "    <tr>\n",
              "      <th>24666</th>\n",
              "      <td>heeboulder</td>\n",
              "      <td>39901859586</td>\n",
              "      <td>2020-08-04 21:36:01</td>\n",
              "      <td>https://www.instagram.com/p/CDd7U1IFXCu/</td>\n",
              "      <td>200411 첨으류 락클 초록이 성공쓰!!!!</td>\n",
              "      <td>https://scontent-gmp1-1.cdninstagram.com/v/t50...</td>\n",
              "      <td>#클라이밍 #climbing #볼더링 #bouldering</td>\n",
              "      <td>NaN</td>\n",
              "      <td>14</td>\n",
              "      <td>[13, 2, 1]</td>\n",
              "      <td>2020-08-31 19:00:32</td>\n",
              "      <td>4</td>\n",
              "      <td>https://www.instagram.com/graphql/query/?query...</td>\n",
              "    </tr>\n",
              "    <tr>\n",
              "      <th>24667</th>\n",
              "      <td>heeboulder</td>\n",
              "      <td>39901859586</td>\n",
              "      <td>2020-08-04 21:31:37</td>\n",
              "      <td>https://www.instagram.com/p/CDd60iUlSIr/</td>\n",
              "      <td>200222 청주락클 데이뚜💛</td>\n",
              "      <td>https://scontent-gmp1-1.cdninstagram.com/v/t50...</td>\n",
              "      <td>#클라이밍 #climbing #볼더링 #bouldering</td>\n",
              "      <td>NaN</td>\n",
              "      <td>15</td>\n",
              "      <td>[15, 1]</td>\n",
              "      <td>2020-08-31 19:00:32</td>\n",
              "      <td>4</td>\n",
              "      <td>https://www.instagram.com/graphql/query/?query...</td>\n",
              "    </tr>\n",
              "    <tr>\n",
              "      <th>24668</th>\n",
              "      <td>heeboulder</td>\n",
              "      <td>39901859586</td>\n",
              "      <td>2020-08-04 18:08:35</td>\n",
              "      <td>https://www.instagram.com/p/CDdjlfqlZEf/</td>\n",
              "      <td>200208 클팍 첫방문! 실패안한척 올리기</td>\n",
              "      <td>https://scontent-gmp1-1.cdninstagram.com/v/t50...</td>\n",
              "      <td>#클라이밍 #climbing #볼더링 #bouldering</td>\n",
              "      <td>NaN</td>\n",
              "      <td>19</td>\n",
              "      <td>[19, 0, 1, 3, 0]</td>\n",
              "      <td>2020-08-31 19:00:32</td>\n",
              "      <td>4</td>\n",
              "      <td>https://www.instagram.com/graphql/query/?query...</td>\n",
              "    </tr>\n",
              "  </tbody>\n",
              "</table>\n",
              "<p>24669 rows × 13 columns</p>\n",
              "</div>"
            ],
            "text/plain": [
              "         insta_id  ...                                          next_page\n",
              "0       jjjjy_o.o  ...  https://www.instagram.com/graphql/query/?query...\n",
              "1       jjjjy_o.o  ...  https://www.instagram.com/graphql/query/?query...\n",
              "2       jjjjy_o.o  ...  https://www.instagram.com/graphql/query/?query...\n",
              "3       jjjjy_o.o  ...  https://www.instagram.com/graphql/query/?query...\n",
              "4       jjjjy_o.o  ...  https://www.instagram.com/graphql/query/?query...\n",
              "...           ...  ...                                                ...\n",
              "24664  heeboulder  ...  https://www.instagram.com/graphql/query/?query...\n",
              "24665  heeboulder  ...  https://www.instagram.com/graphql/query/?query...\n",
              "24666  heeboulder  ...  https://www.instagram.com/graphql/query/?query...\n",
              "24667  heeboulder  ...  https://www.instagram.com/graphql/query/?query...\n",
              "24668  heeboulder  ...  https://www.instagram.com/graphql/query/?query...\n",
              "\n",
              "[24669 rows x 13 columns]"
            ]
          },
          "metadata": {
            "tags": []
          },
          "execution_count": 19
        }
      ]
    },
    {
      "cell_type": "code",
      "metadata": {
        "id": "8p0FMywFIJeq",
        "outputId": "f0006316-7113-48c4-9a75-10be66a77df0",
        "colab": {
          "base_uri": "https://localhost:8080/",
          "height": 34
        }
      },
      "source": [
        "len(df['content'])"
      ],
      "execution_count": null,
      "outputs": [
        {
          "output_type": "execute_result",
          "data": {
            "text/plain": [
              "24669"
            ]
          },
          "metadata": {
            "tags": []
          },
          "execution_count": 4
        }
      ]
    },
    {
      "cell_type": "code",
      "metadata": {
        "id": "5wFDiDcjILD6",
        "outputId": "4d6e952e-6776-49ed-cd94-457738712b73",
        "colab": {
          "base_uri": "https://localhost:8080/",
          "height": 34
        }
      },
      "source": [
        "len(list(set(df['inner_id'])))"
      ],
      "execution_count": null,
      "outputs": [
        {
          "output_type": "execute_result",
          "data": {
            "text/plain": [
              "1210"
            ]
          },
          "metadata": {
            "tags": []
          },
          "execution_count": 5
        }
      ]
    },
    {
      "cell_type": "code",
      "metadata": {
        "id": "NDzdjAslILKj"
      },
      "source": [
        "limit_words = ['문의', 'DM', '고객님', '완판', '이벤트', '콜라보', '납품', '광고', '구매', '매진', '할인', '홍보', '협찬', '수입', '행사', '출시', '런칭', '론칭', '입양', '한정기획', '원플원', '스마트스토어', '발매', '품절', '체험단', '운영중', '오픈시간', '티져영상', '예약', '공식쇼핑몰', '본점', '캠페인', '인스타친구', '사업', '협회', '재입고', '최대지원금', '최저가', '요금', '지급', '개시', '입점', '작가', '자수', '아저씨넷', '네일']"
      ],
      "execution_count": null,
      "outputs": []
    },
    {
      "cell_type": "code",
      "metadata": {
        "id": "uqCrDvlIILM8"
      },
      "source": [
        "idx = []\n",
        "id_list = []\n",
        "word_cnt = 2 # 광고 단어 포함 횟수\n",
        "\n",
        "for i, content in enumerate(df['content']):\n",
        "    cnt = 0\n",
        "    for word in limit_words:\n",
        "        if word in str(content):\n",
        "            cnt += 1\n",
        "            if cnt == word_cnt:\n",
        "                id_list.append(df['inner_id'][i])\n",
        "                idx.append(i)\n",
        "                break"
      ],
      "execution_count": null,
      "outputs": []
    },
    {
      "cell_type": "code",
      "metadata": {
        "id": "uVMYER3QILO-",
        "outputId": "43400711-c4a5-4ca6-ebb3-ffa033f5ca4b",
        "colab": {
          "base_uri": "https://localhost:8080/",
          "height": 34
        }
      },
      "source": [
        "len(idx)"
      ],
      "execution_count": null,
      "outputs": [
        {
          "output_type": "execute_result",
          "data": {
            "text/plain": [
              "399"
            ]
          },
          "metadata": {
            "tags": []
          },
          "execution_count": 24
        }
      ]
    },
    {
      "cell_type": "code",
      "metadata": {
        "id": "GM_CLQ2lILSH",
        "outputId": "3ad397bb-a6f1-4ee6-c416-448738ab81eb",
        "colab": {
          "base_uri": "https://localhost:8080/",
          "height": 34
        }
      },
      "source": [
        "len(list(set(id_list)))"
      ],
      "execution_count": null,
      "outputs": [
        {
          "output_type": "execute_result",
          "data": {
            "text/plain": [
              "103"
            ]
          },
          "metadata": {
            "tags": []
          },
          "execution_count": 25
        }
      ]
    }
  ]
}
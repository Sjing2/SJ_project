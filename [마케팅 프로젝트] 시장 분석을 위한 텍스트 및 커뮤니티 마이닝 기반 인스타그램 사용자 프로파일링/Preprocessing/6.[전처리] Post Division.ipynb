{
  "nbformat": 4,
  "nbformat_minor": 0,
  "metadata": {
    "colab": {
      "name": "10.[전처리] Post_Division.ipynb",
      "provenance": [],
      "authorship_tag": "ABX9TyMq0YP9neaulKjjrHD529c1",
      "include_colab_link": true
    },
    "kernelspec": {
      "name": "python3",
      "display_name": "Python 3"
    }
  },
  "cells": [
    {
      "cell_type": "markdown",
      "metadata": {
        "id": "view-in-github",
        "colab_type": "text"
      },
      "source": [
        "<a href=\"https://colab.research.google.com/github/Sjing2/SJ_project/blob/master/%5B%EB%A7%88%EC%BC%80%ED%8C%85%20%ED%94%84%EB%A1%9C%EC%A0%9D%ED%8A%B8%5D%20%EC%8B%9C%EC%9E%A5%20%EB%B6%84%EC%84%9D%EC%9D%84%20%EC%9C%84%ED%95%9C%20%ED%85%8D%EC%8A%A4%ED%8A%B8%20%EB%B0%8F%20%EC%BB%A4%EB%AE%A4%EB%8B%88%ED%8B%B0%20%EB%A7%88%EC%9D%B4%EB%8B%9D%20%EA%B8%B0%EB%B0%98%20%EC%9D%B8%EC%8A%A4%ED%83%80%EA%B7%B8%EB%9E%A8%20%EC%82%AC%EC%9A%A9%EC%9E%90%20%ED%94%84%EB%A1%9C%ED%8C%8C%EC%9D%BC%EB%A7%81/10.%5B%EC%A0%84%EC%B2%98%EB%A6%AC%5D%20Post%20Division.ipynb\" target=\"_parent\"><img src=\"https://colab.research.google.com/assets/colab-badge.svg\" alt=\"Open In Colab\"/></a>"
      ]
    },
    {
      "cell_type": "code",
      "metadata": {
        "id": "Zbfg0571TM4C"
      },
      "source": [
        "import pandas as pd"
      ],
      "execution_count": null,
      "outputs": []
    },
    {
      "cell_type": "code",
      "metadata": {
        "id": "ugUAUxESTVnr",
        "outputId": "9ace5a96-21c7-4da3-9735-2c5408bb989e",
        "colab": {
          "base_uri": "https://localhost:8080/",
          "height": 125
        }
      },
      "source": [
        "from google.colab import drive\n",
        "drive.mount('/content/gdrive/')"
      ],
      "execution_count": null,
      "outputs": [
        {
          "output_type": "stream",
          "text": [
            "Go to this URL in a browser: https://accounts.google.com/o/oauth2/auth?client_id=947318989803-6bn6qk8qdgf4n4g3pfee6491hc0brc4i.apps.googleusercontent.com&redirect_uri=urn%3aietf%3awg%3aoauth%3a2.0%3aoob&scope=email%20https%3a%2f%2fwww.googleapis.com%2fauth%2fdocs.test%20https%3a%2f%2fwww.googleapis.com%2fauth%2fdrive%20https%3a%2f%2fwww.googleapis.com%2fauth%2fdrive.photos.readonly%20https%3a%2f%2fwww.googleapis.com%2fauth%2fpeopleapi.readonly&response_type=code\n",
            "\n",
            "Enter your authorization code:\n",
            "··········\n",
            "Mounted at /content/gdrive/\n"
          ],
          "name": "stdout"
        }
      ]
    },
    {
      "cell_type": "code",
      "metadata": {
        "id": "HEqYu5p1TNYs"
      },
      "source": [
        "df = pd.read_csv('/content/gdrive/My Drive/인스타그램_프로파일링/Post/Delete(foreign, over1000)/3. delete_businessword/cc_word.csv')"
      ],
      "execution_count": null,
      "outputs": []
    },
    {
      "cell_type": "code",
      "metadata": {
        "id": "C9Nvi14ETNdb"
      },
      "source": [
        "def post_division(df, n, csv_name):\n",
        "    dic_id = {}\n",
        "    id_lst = list(set(df['insta_id']))\n",
        "    print('총 id 개수: {}'.format(len(id_lst)))\n",
        "    for i, id in enumerate(id_lst):\n",
        "        dic_num = i//n\n",
        "        if i%n == 0:\n",
        "            dic_id['{}'.format(dic_num)] = [id]\n",
        "        else:\n",
        "            dic_id['{}'.format(dic_num)].append(id)\n",
        "    for num, ids in dic_id.items():\n",
        "        new_df = pd.DataFrame(columns = df.columns)\n",
        "        for id in ids:\n",
        "            new_df = new_df.append(df[df['insta_id']==id])\n",
        "        new_df.to_csv('/content/gdrive/My Drive/프로젝트/cc_word/{}_{}.csv'.format(csv_name, int(num)+1), index=False)\n",
        "    \n",
        "    print('각 파일 id 개수: {}'.format([len(x) for x in dic_id.values()]))\n",
        "    print('총 {}개의 파일로 분할하였습니다'.format(len(dic_id)))"
      ],
      "execution_count": null,
      "outputs": []
    },
    {
      "cell_type": "code",
      "metadata": {
        "id": "NpKt6JrHTNfL",
        "outputId": "8281533d-49bf-4d9f-c094-e5f3cacbbdd2",
        "colab": {
          "base_uri": "https://localhost:8080/",
          "height": 70
        }
      },
      "source": [
        "post_division(df, 250, 'cc_word')"
      ],
      "execution_count": null,
      "outputs": [
        {
          "output_type": "stream",
          "text": [
            "총 id 개수: 1107\n",
            "각 파일 id 개수: [250, 250, 250, 250, 107]\n",
            "총 5개의 파일로 분할하였습니다\n"
          ],
          "name": "stdout"
        }
      ]
    }
  ]
}
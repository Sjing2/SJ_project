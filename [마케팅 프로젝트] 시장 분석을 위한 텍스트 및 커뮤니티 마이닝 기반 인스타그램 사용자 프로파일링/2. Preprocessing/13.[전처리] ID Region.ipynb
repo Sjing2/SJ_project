{
  "nbformat": 4,
  "nbformat_minor": 0,
  "metadata": {
    "colab": {
      "name": "13.[전처리] ID Region.ipynb",
      "provenance": [],
      "authorship_tag": "ABX9TyMILF7wodBz1hxwVgPY2uQr",
      "include_colab_link": true
    },
    "kernelspec": {
      "name": "python3",
      "display_name": "Python 3"
    }
  },
  "cells": [
    {
      "cell_type": "markdown",
      "metadata": {
        "id": "view-in-github",
        "colab_type": "text"
      },
      "source": [
        "<a href=\"https://colab.research.google.com/github/Sjing2/SJ_project/blob/master/%5B%EB%A7%88%EC%BC%80%ED%8C%85%20%ED%94%84%EB%A1%9C%EC%A0%9D%ED%8A%B8%5D%20%EC%8B%9C%EC%9E%A5%20%EB%B6%84%EC%84%9D%EC%9D%84%20%EC%9C%84%ED%95%9C%20%ED%85%8D%EC%8A%A4%ED%8A%B8%20%EB%B0%8F%20%EC%BB%A4%EB%AE%A4%EB%8B%88%ED%8B%B0%20%EB%A7%88%EC%9D%B4%EB%8B%9D%20%EA%B8%B0%EB%B0%98%20%EC%9D%B8%EC%8A%A4%ED%83%80%EA%B7%B8%EB%9E%A8%20%EC%82%AC%EC%9A%A9%EC%9E%90%20%ED%94%84%EB%A1%9C%ED%8C%8C%EC%9D%BC%EB%A7%81/2.%20Preprocessing/13.%5B%EC%A0%84%EC%B2%98%EB%A6%AC%5D%20ID%20Region.ipynb\" target=\"_parent\"><img src=\"https://colab.research.google.com/assets/colab-badge.svg\" alt=\"Open In Colab\"/></a>"
      ]
    },
    {
      "cell_type": "code",
      "metadata": {
        "id": "Wet6y-3mx165"
      },
      "source": [
        "import pandas as pd\n",
        "import numpy as np"
      ],
      "execution_count": null,
      "outputs": []
    },
    {
      "cell_type": "code",
      "metadata": {
        "id": "oklg7PtKyinh",
        "outputId": "126c7a9c-bae0-4a2e-e9e8-407ac92d280e",
        "colab": {
          "base_uri": "https://localhost:8080/",
          "height": 125
        }
      },
      "source": [
        "from google.colab import drive\n",
        "drive.mount('/content/gdrive/')"
      ],
      "execution_count": null,
      "outputs": [
        {
          "output_type": "stream",
          "text": [
            "Go to this URL in a browser: https://accounts.google.com/o/oauth2/auth?client_id=947318989803-6bn6qk8qdgf4n4g3pfee6491hc0brc4i.apps.googleusercontent.com&redirect_uri=urn%3aietf%3awg%3aoauth%3a2.0%3aoob&scope=email%20https%3a%2f%2fwww.googleapis.com%2fauth%2fdocs.test%20https%3a%2f%2fwww.googleapis.com%2fauth%2fdrive%20https%3a%2f%2fwww.googleapis.com%2fauth%2fdrive.photos.readonly%20https%3a%2f%2fwww.googleapis.com%2fauth%2fpeopleapi.readonly&response_type=code\n",
            "\n",
            "Enter your authorization code:\n",
            "··········\n",
            "Mounted at /content/gdrive/\n"
          ],
          "name": "stdout"
        }
      ]
    },
    {
      "cell_type": "code",
      "metadata": {
        "id": "EDph9Tgqx3bv"
      },
      "source": [
        "df = pd.read_csv('/content/gdrive/My Drive/인스타그램_프로파일링/Post/Final/cc_post.csv')"
      ],
      "execution_count": null,
      "outputs": []
    },
    {
      "cell_type": "code",
      "metadata": {
        "id": "CqPAGhyTeTFV"
      },
      "source": [
        "words = ['여행', '출장', '본가', '휴가', '호캉스', '바캉스', '투어', '펜션', '호텔', '숙박', '공항', '픽업', '해수욕장', 'MT', '엠티', '객실']"
      ],
      "execution_count": null,
      "outputs": []
    },
    {
      "cell_type": "code",
      "metadata": {
        "id": "QrUU6dn6eTII"
      },
      "source": [
        "# content 내 words 포함된 단어의 index\n",
        "idx_content = []\n",
        "\n",
        "for i, v in enumerate(df['content']):\n",
        "    for w in words:\n",
        "        if w in str(v):\n",
        "            idx_content.append(i)"
      ],
      "execution_count": null,
      "outputs": []
    },
    {
      "cell_type": "code",
      "metadata": {
        "id": "v0zMX1oJeTM8"
      },
      "source": [
        "# hashtag 내 words 포함된 단어의 index\n",
        "idx_hashtag = []\n",
        "\n",
        "for i, v in enumerate(df['hashtag']):\n",
        "    for w in words:\n",
        "        if w in str(v):\n",
        "            idx_hashtag.append(i)"
      ],
      "execution_count": null,
      "outputs": []
    },
    {
      "cell_type": "code",
      "metadata": {
        "id": "eaJ4Vmc0eTUg",
        "outputId": "1b41941b-e351-44ce-ef6a-96ff6fe68ab6",
        "colab": {
          "base_uri": "https://localhost:8080/",
          "height": 34
        }
      },
      "source": [
        "# content와 hashtag에 words가 중복으로 있는 index 제거 후 new_df로 저장\n",
        "idx = []\n",
        "idx.extend(idx_content)\n",
        "idx.extend(idx_hashtag)\n",
        "idx = list(set(idx))\n",
        "print('words가 포함된 post 수: {}'.format(len(idx)))"
      ],
      "execution_count": null,
      "outputs": [
        {
          "output_type": "stream",
          "text": [
            "words가 포함된 post 수: 8519\n"
          ],
          "name": "stdout"
        }
      ]
    },
    {
      "cell_type": "code",
      "metadata": {
        "id": "LW4rFGgUeTcF"
      },
      "source": [
        "new_df = df.drop(idx)\n",
        "new_df.reset_index(drop=True, inplace=True)"
      ],
      "execution_count": null,
      "outputs": []
    },
    {
      "cell_type": "code",
      "metadata": {
        "id": "X_29j8jheTZ9",
        "outputId": "e554c88a-8528-4b91-a984-7572f51222d9",
        "colab": {
          "base_uri": "https://localhost:8080/",
          "height": 34
        }
      },
      "source": [
        "print('기존 post수: {}, 제거 후 post 수: {}'.format(len(df), len(new_df)))"
      ],
      "execution_count": null,
      "outputs": [
        {
          "output_type": "stream",
          "text": [
            "기존 post수: 110588, 제거 후 post 수: 102069\n"
          ],
          "name": "stdout"
        }
      ]
    },
    {
      "cell_type": "code",
      "metadata": {
        "id": "2d8P0rQCeTZB"
      },
      "source": [
        "# 모든 content가 nan값인 user 제거"
      ],
      "execution_count": null,
      "outputs": []
    },
    {
      "cell_type": "code",
      "metadata": {
        "id": "66hu9DFGeTST"
      },
      "source": [
        "unique_id = np.unique(new_df['insta_id'])"
      ],
      "execution_count": null,
      "outputs": []
    },
    {
      "cell_type": "code",
      "metadata": {
        "id": "0lb9a-DYeTPx"
      },
      "source": [
        "content_id_delete = []\n",
        "for i in unique_id:\n",
        "    length = len(new_df[new_df['insta_id']==i])\n",
        "    cnt = 0\n",
        "    for j in new_df[new_df['insta_id']==i]['content']:\n",
        "        try:\n",
        "            np.isnan(j)\n",
        "            cnt += 1\n",
        "        except:\n",
        "            pass\n",
        "    if cnt == length:\n",
        "        content_id_delete.append(i)"
      ],
      "execution_count": null,
      "outputs": []
    },
    {
      "cell_type": "code",
      "metadata": {
        "id": "wdWboZJrepdB"
      },
      "source": [
        "new_new_df = new_df\n",
        "for i in content_id_delete:\n",
        "    new_new_df = new_new_df[new_new_df['insta_id']!=i]\n",
        "new_new_df.reset_index(drop=True, inplace=True)"
      ],
      "execution_count": null,
      "outputs": []
    },
    {
      "cell_type": "code",
      "metadata": {
        "id": "jV9SFGK_epfV",
        "outputId": "76ecc496-4bbd-4c16-baf4-47cf834de2d7",
        "colab": {
          "base_uri": "https://localhost:8080/",
          "height": 34
        }
      },
      "source": [
        "print('모든 content가 nan값인 유저 수: {}'.format(len(content_id_delete)))"
      ],
      "execution_count": null,
      "outputs": [
        {
          "output_type": "stream",
          "text": [
            "모든 content가 nan값인 유저 수: 6\n"
          ],
          "name": "stdout"
        }
      ]
    },
    {
      "cell_type": "code",
      "metadata": {
        "id": "t0VomQ39epkP"
      },
      "source": [
        "# 각 id의 region_tag추출. nan값은 제거."
      ],
      "execution_count": null,
      "outputs": []
    },
    {
      "cell_type": "code",
      "metadata": {
        "id": "L_BUS1ePepiy"
      },
      "source": [
        "id_list = np.unique(new_new_df['insta_id'])"
      ],
      "execution_count": null,
      "outputs": []
    },
    {
      "cell_type": "code",
      "metadata": {
        "id": "mgeKuQv8exu1"
      },
      "source": [
        "region = []\n",
        "\n",
        "for i in id_list:\n",
        "    region_tag = []\n",
        "    for j in new_new_df[new_new_df['insta_id']==i]['region_tag']:\n",
        "        try:\n",
        "            np.isnan(j)\n",
        "        except:\n",
        "            region_tag.append(j)\n",
        "    region.append(region_tag)"
      ],
      "execution_count": null,
      "outputs": []
    },
    {
      "cell_type": "code",
      "metadata": {
        "id": "XwN4nT06exzc"
      },
      "source": [
        "id_region = dict(zip(id_list, region))"
      ],
      "execution_count": null,
      "outputs": []
    },
    {
      "cell_type": "code",
      "metadata": {
        "id": "Tcj1lEUNex3_"
      },
      "source": [
        "id_delete = []\n",
        "\n",
        "for i in id_region:\n",
        "    if len(id_region[i]) == 0:\n",
        "        id_delete.append(i)"
      ],
      "execution_count": null,
      "outputs": []
    },
    {
      "cell_type": "code",
      "metadata": {
        "id": "gYw95Q94ex2P"
      },
      "source": [
        "for i in id_delete:\n",
        "    id_region.pop(i)"
      ],
      "execution_count": null,
      "outputs": []
    },
    {
      "cell_type": "code",
      "metadata": {
        "id": "YIOVkZh_exxs"
      },
      "source": [
        "# 저장\n",
        "blank = pd.DataFrame(['' for i in range(len(id_region.keys()))], columns = ['region'])\n",
        "ids = pd.DataFrame(list(id_region.keys()), columns = ['insta_id'])\n",
        "regions = pd.DataFrame(list(id_region.values()))"
      ],
      "execution_count": null,
      "outputs": []
    },
    {
      "cell_type": "code",
      "metadata": {
        "id": "rpCfXoTIeTLg"
      },
      "source": [
        "final = pd.concat([blank, ids, regions], axis = 1)"
      ],
      "execution_count": null,
      "outputs": []
    },
    {
      "cell_type": "code",
      "metadata": {
        "id": "4ZIFS-qLe8F4"
      },
      "source": [
        "final.to_csv('/content/gdrive/My Drive/프로젝트/cc_post_final/cc_id_region2.csv', index=False)"
      ],
      "execution_count": null,
      "outputs": []
    }
  ]
}
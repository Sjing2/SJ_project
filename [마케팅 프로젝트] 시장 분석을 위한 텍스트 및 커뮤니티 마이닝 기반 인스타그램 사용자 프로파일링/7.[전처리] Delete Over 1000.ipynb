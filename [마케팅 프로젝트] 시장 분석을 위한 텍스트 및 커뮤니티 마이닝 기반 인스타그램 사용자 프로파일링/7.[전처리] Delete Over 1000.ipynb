{
  "nbformat": 4,
  "nbformat_minor": 0,
  "metadata": {
    "colab": {
      "name": "7.[ 전처리] Delete_Over_1000.ipynb",
      "provenance": [],
      "collapsed_sections": [],
      "authorship_tag": "ABX9TyPto7beNGMrbn7bgcKoK4f7",
      "include_colab_link": true
    },
    "kernelspec": {
      "name": "python3",
      "display_name": "Python 3"
    }
  },
  "cells": [
    {
      "cell_type": "markdown",
      "metadata": {
        "id": "view-in-github",
        "colab_type": "text"
      },
      "source": [
        "<a href=\"https://colab.research.google.com/github/Sjing2/SJ_project/blob/master/%5B%EB%A7%88%EC%BC%80%ED%8C%85%20%ED%94%84%EB%A1%9C%EC%A0%9D%ED%8A%B8%5D%20%EC%8B%9C%EC%9E%A5%20%EB%B6%84%EC%84%9D%EC%9D%84%20%EC%9C%84%ED%95%9C%20%ED%85%8D%EC%8A%A4%ED%8A%B8%20%EB%B0%8F%20%EC%BB%A4%EB%AE%A4%EB%8B%88%ED%8B%B0%20%EB%A7%88%EC%9D%B4%EB%8B%9D%20%EA%B8%B0%EB%B0%98%20%EC%9D%B8%EC%8A%A4%ED%83%80%EA%B7%B8%EB%9E%A8%20%EC%82%AC%EC%9A%A9%EC%9E%90%20%ED%94%84%EB%A1%9C%ED%8C%8C%EC%9D%BC%EB%A7%81/7.%5B%EC%A0%84%EC%B2%98%EB%A6%AC%5D%20Delete%20Over%201000.ipynb\" target=\"_parent\"><img src=\"https://colab.research.google.com/assets/colab-badge.svg\" alt=\"Open In Colab\"/></a>"
      ]
    },
    {
      "cell_type": "code",
      "metadata": {
        "id": "4uCaMKbL1Ijp",
        "outputId": "6da2dcf5-bf36-447c-e1cf-192cd1144a3b",
        "colab": {
          "base_uri": "https://localhost:8080/",
          "height": 34
        }
      },
      "source": [
        "from google.colab import drive\n",
        "drive.mount('/content/gdrive/')"
      ],
      "execution_count": null,
      "outputs": [
        {
          "output_type": "stream",
          "text": [
            "Drive already mounted at /content/gdrive/; to attempt to forcibly remount, call drive.mount(\"/content/gdrive/\", force_remount=True).\n"
          ],
          "name": "stdout"
        }
      ]
    },
    {
      "cell_type": "code",
      "metadata": {
        "id": "914kvRx71UvQ"
      },
      "source": [
        "import pandas as pd"
      ],
      "execution_count": null,
      "outputs": []
    },
    {
      "cell_type": "code",
      "metadata": {
        "id": "VDl1Y2Uo1U2o"
      },
      "source": [
        "# 지역_delete 지역 경로 설정\n",
        "df = pd.read_csv('/content/gdrive/My Drive/인스타그램_프로파일링/Post/Delete(foreign, over1000)/cc_delete.csv', index_col =[0])\n",
        "df.reset_index(inplace=True, drop=True)"
      ],
      "execution_count": null,
      "outputs": []
    },
    {
      "cell_type": "code",
      "metadata": {
        "id": "16LEQHXb1Uz7"
      },
      "source": [
        "# limit_follow.py 에서 뽑은 follow 1000이상인 inner_id 경로 설정\n",
        "df_1000 = pd.read_csv('/content/gdrive/My Drive/인스타그램_프로파일링/Post/cc_limit_follow.csv')\n",
        "id_list = list(map(str, list(set(df_1000['inner_id']))))"
      ],
      "execution_count": null,
      "outputs": []
    },
    {
      "cell_type": "code",
      "metadata": {
        "id": "MeBkmZvW1Usu"
      },
      "source": [
        "idx = []\n",
        "for i, inner_id in enumerate(df['inner_id']):\n",
        "    if str(inner_id) in id_list:\n",
        "        idx.append(i)\n",
        "\n",
        "df.drop(idx, inplace=True)\n",
        "df.reset_index(inplace=True, drop=True)"
      ],
      "execution_count": null,
      "outputs": []
    },
    {
      "cell_type": "code",
      "metadata": {
        "id": "2aOCaRYC1hiQ"
      },
      "source": [
        "df.to_csv('/content/gdrive/My Drive/인스타그램_프로파일링/Post/Delete(foreign, over1000)/cc_delete_over_1000.csv')"
      ],
      "execution_count": null,
      "outputs": []
    }
  ]
}
{
 "cells": [
  {
   "cell_type": "code",
   "execution_count": 31,
   "metadata": {},
   "outputs": [],
   "source": [
    "from sklearn.model_selection import train_test_split\n",
    "from sklearn.pipeline import Pipeline\n",
    "from sklearn.feature_extraction.text import CountVectorizer\n",
    "from sklearn.naive_bayes import MultinomialNB\n",
    "from tqdm import tqdm\n",
    "\n",
    "import numpy as np\n",
    "import pandas as pd\n",
    "import csv"
   ]
  },
  {
   "cell_type": "markdown",
   "metadata": {},
   "source": [
    "# **1. NBC 수행**"
   ]
  },
  {
   "cell_type": "markdown",
   "metadata": {},
   "source": [
    "## **1-1. 코퍼스 가져오기**"
   ]
  },
  {
   "cell_type": "code",
   "execution_count": 32,
   "metadata": {},
   "outputs": [],
   "source": [
    "labeled_corpus = pd.read_csv('corpus.csv', index_col=[0], header = 0, encoding = 'utf-8')\n",
    "corpus = labeled_corpus.copy()"
   ]
  },
  {
   "cell_type": "code",
   "execution_count": 33,
   "metadata": {},
   "outputs": [
    {
     "data": {
      "text/html": [
       "<div>\n",
       "<style scoped>\n",
       "    .dataframe tbody tr th:only-of-type {\n",
       "        vertical-align: middle;\n",
       "    }\n",
       "\n",
       "    .dataframe tbody tr th {\n",
       "        vertical-align: top;\n",
       "    }\n",
       "\n",
       "    .dataframe thead th {\n",
       "        text-align: right;\n",
       "    }\n",
       "</style>\n",
       "<table border=\"1\" class=\"dataframe\">\n",
       "  <thead>\n",
       "    <tr style=\"text-align: right;\">\n",
       "      <th></th>\n",
       "      <th>token_ngram</th>\n",
       "      <th>label</th>\n",
       "    </tr>\n",
       "  </thead>\n",
       "  <tbody>\n",
       "    <tr>\n",
       "      <th>0</th>\n",
       "      <td>강진/NNG,송/NNG,기자/NNG,강진군/NNG,농가/NNG,소득/NNG,보전/N...</td>\n",
       "      <td>1</td>\n",
       "    </tr>\n",
       "    <tr>\n",
       "      <th>1</th>\n",
       "      <td>단위/NNG,끝/NNG</td>\n",
       "      <td>1</td>\n",
       "    </tr>\n",
       "    <tr>\n",
       "      <th>2</th>\n",
       "      <td>단위/NNG,끝/NNG</td>\n",
       "      <td>1</td>\n",
       "    </tr>\n",
       "    <tr>\n",
       "      <th>3</th>\n",
       "      <td>단위/NNG,끝/NNG</td>\n",
       "      <td>1</td>\n",
       "    </tr>\n",
       "    <tr>\n",
       "      <th>4</th>\n",
       "      <td>단위/NNG,끝/NNG</td>\n",
       "      <td>1</td>\n",
       "    </tr>\n",
       "    <tr>\n",
       "      <th>...</th>\n",
       "      <td>...</td>\n",
       "      <td>...</td>\n",
       "    </tr>\n",
       "    <tr>\n",
       "      <th>196445</th>\n",
       "      <td>'국제/NNG,금융시장/NNG,안정/NNG,되/VV,지속/NNG,하/XSV,가운데/...</td>\n",
       "      <td>0</td>\n",
       "    </tr>\n",
       "    <tr>\n",
       "      <th>196446</th>\n",
       "      <td>'성장/NNG,고용/NNG,회복국면/NNG,정점/NNG,향하/VV,불구/NNG,물가...</td>\n",
       "      <td>0</td>\n",
       "    </tr>\n",
       "    <tr>\n",
       "      <th>196447</th>\n",
       "      <td>'금리정상화/NNG,행보/NNG,불구/NNG,미/NNG,달러/NNG,약세/NNG,기...</td>\n",
       "      <td>1</td>\n",
       "    </tr>\n",
       "    <tr>\n",
       "      <th>196448</th>\n",
       "      <td>'임금/NNG,상승/NNG,확대/NNG,되/XSV,세제/NNG,개혁/NNG,기대/N...</td>\n",
       "      <td>0</td>\n",
       "    </tr>\n",
       "    <tr>\n",
       "      <th>196449</th>\n",
       "      <td>'금융경제/NNG,보/VV,fed/NNG,금리/NNG,인상/NNG,하/VV,예견/N...</td>\n",
       "      <td>1</td>\n",
       "    </tr>\n",
       "  </tbody>\n",
       "</table>\n",
       "<p>161470 rows × 2 columns</p>\n",
       "</div>"
      ],
      "text/plain": [
       "                                              token_ngram  label\n",
       "0       강진/NNG,송/NNG,기자/NNG,강진군/NNG,농가/NNG,소득/NNG,보전/N...      1\n",
       "1                                            단위/NNG,끝/NNG      1\n",
       "2                                            단위/NNG,끝/NNG      1\n",
       "3                                            단위/NNG,끝/NNG      1\n",
       "4                                            단위/NNG,끝/NNG      1\n",
       "...                                                   ...    ...\n",
       "196445  '국제/NNG,금융시장/NNG,안정/NNG,되/VV,지속/NNG,하/XSV,가운데/...      0\n",
       "196446  '성장/NNG,고용/NNG,회복국면/NNG,정점/NNG,향하/VV,불구/NNG,물가...      0\n",
       "196447  '금리정상화/NNG,행보/NNG,불구/NNG,미/NNG,달러/NNG,약세/NNG,기...      1\n",
       "196448  '임금/NNG,상승/NNG,확대/NNG,되/XSV,세제/NNG,개혁/NNG,기대/N...      0\n",
       "196449  '금융경제/NNG,보/VV,fed/NNG,금리/NNG,인상/NNG,하/VV,예견/N...      1\n",
       "\n",
       "[161470 rows x 2 columns]"
      ]
     },
     "execution_count": 33,
     "metadata": {},
     "output_type": "execute_result"
    }
   ],
   "source": [
    "corpus = corpus[corpus['token_ngram'].notna()]\n",
    "corpus = corpus.dropna()\n",
    "corpus"
   ]
  },
  {
   "cell_type": "code",
   "execution_count": 34,
   "metadata": {},
   "outputs": [],
   "source": [
    "# 토크나이저 함수\n",
    "def my_tokenizer(x):\n",
    "    return x.split(\",\")"
   ]
  },
  {
   "cell_type": "markdown",
   "metadata": {},
   "source": [
    "## **1-2. 데이터 파이프 라인**"
   ]
  },
  {
   "cell_type": "code",
   "execution_count": 35,
   "metadata": {},
   "outputs": [],
   "source": [
    "text_clf = Pipeline([('vect', CountVectorizer(ngram_range=(1,1), min_df = 15, tokenizer = my_tokenizer)),\n",
    "                      ('clf', MultinomialNB(alpha=0.001))])\n",
    "vect = text_clf.named_steps['vect']\n",
    "clf = text_clf.named_steps['clf']"
   ]
  },
  {
   "cell_type": "code",
   "execution_count": 36,
   "metadata": {},
   "outputs": [
    {
     "name": "stderr",
     "output_type": "stream",
     "text": [
      "100%|██████████████████████████████████████████████████████████████████████████████████| 30/30 [10:01<00:00, 20.04s/it]\n"
     ]
    }
   ],
   "source": [
    "# 배깅 30회\n",
    "accuracy = np.zeros(30)\n",
    "posterior_list = []\n",
    "\n",
    "for i in tqdm(range(30)):\n",
    "    X_train, X_test, y_train, y_test = train_test_split(corpus['token_ngram'], corpus['label'], random_state = i, train_size = 0.9, shuffle=True)\n",
    "    text_clf.fit(X_train, y_train)\n",
    "    posterior_list.append(np.vstack([np.array(vect.get_feature_names()), np.exp(clf.feature_log_prob_)]))\n",
    "    pred = text_clf.predict(X_test)\n",
    "    accuracy[i] = np.sum(pred == y_test)"
   ]
  },
  {
   "cell_type": "code",
   "execution_count": 37,
   "metadata": {},
   "outputs": [
    {
     "data": {
      "text/plain": [
       "array([-1,  0,  1], dtype=int64)"
      ]
     },
     "execution_count": 37,
     "metadata": {},
     "output_type": "execute_result"
    }
   ],
   "source": [
    "clf.classes_ "
   ]
  },
  {
   "cell_type": "code",
   "execution_count": 52,
   "metadata": {},
   "outputs": [
    {
     "data": {
      "text/html": [
       "<div>\n",
       "<style scoped>\n",
       "    .dataframe tbody tr th:only-of-type {\n",
       "        vertical-align: middle;\n",
       "    }\n",
       "\n",
       "    .dataframe tbody tr th {\n",
       "        vertical-align: top;\n",
       "    }\n",
       "\n",
       "    .dataframe thead th {\n",
       "        text-align: right;\n",
       "    }\n",
       "</style>\n",
       "<table border=\"1\" class=\"dataframe\">\n",
       "  <thead>\n",
       "    <tr style=\"text-align: right;\">\n",
       "      <th></th>\n",
       "      <th>0</th>\n",
       "    </tr>\n",
       "  </thead>\n",
       "  <tbody>\n",
       "    <tr>\n",
       "      <th>0</th>\n",
       "      <td>[[ 'fed/nng,  '가계/nng,  '경상/nng,  '경제/nng,  '국...</td>\n",
       "    </tr>\n",
       "    <tr>\n",
       "      <th>1</th>\n",
       "      <td>[[ 'fed/nng,  '가계/nng,  '경기/nng,  '경제/nng,  '국...</td>\n",
       "    </tr>\n",
       "    <tr>\n",
       "      <th>2</th>\n",
       "      <td>[[ 'fed/nng,  '가계/nng,  '경상/nng,  '경제/nng,  '국...</td>\n",
       "    </tr>\n",
       "    <tr>\n",
       "      <th>3</th>\n",
       "      <td>[[ 'fed/nng,  '가계/nng,  '경제/nng,  '국제/nng,  '글...</td>\n",
       "    </tr>\n",
       "    <tr>\n",
       "      <th>4</th>\n",
       "      <td>[[ 'fed/nng,  '가계/nng,  '경제/nng,  '국제/nng,  '글...</td>\n",
       "    </tr>\n",
       "    <tr>\n",
       "      <th>5</th>\n",
       "      <td>[[ 'fed/nng,  '가계/nng,  '경기/nng,  '경제/nng,  '국...</td>\n",
       "    </tr>\n",
       "    <tr>\n",
       "      <th>6</th>\n",
       "      <td>[[ 'fed/nng,  '가계/nng,  '경제/nng,  '국제/nng,  '글...</td>\n",
       "    </tr>\n",
       "    <tr>\n",
       "      <th>7</th>\n",
       "      <td>[[ 'fed/nng,  '가계/nng,  '경제/nng,  '국제/nng,  '글...</td>\n",
       "    </tr>\n",
       "    <tr>\n",
       "      <th>8</th>\n",
       "      <td>[[ 'fed/nng,  '가계/nng,  '경제/nng,  '국제/nng,  '글...</td>\n",
       "    </tr>\n",
       "    <tr>\n",
       "      <th>9</th>\n",
       "      <td>[[ 'fed/nng,  '가계/nng,  '경상/nng,  '경제/nng,  '국...</td>\n",
       "    </tr>\n",
       "    <tr>\n",
       "      <th>10</th>\n",
       "      <td>[[ 'fed/nng,  '가계/nng,  '경기/nng,  '경제/nng,  '국...</td>\n",
       "    </tr>\n",
       "    <tr>\n",
       "      <th>11</th>\n",
       "      <td>[[ 'fed/nng,  '가계/nng,  '경제/nng,  '국제/nng,  '글...</td>\n",
       "    </tr>\n",
       "    <tr>\n",
       "      <th>12</th>\n",
       "      <td>[[ 'fed/nng,  '가계/nng,  '경제/nng,  '국제/nng,  '글...</td>\n",
       "    </tr>\n",
       "    <tr>\n",
       "      <th>13</th>\n",
       "      <td>[[ 'fed/nng,  '가계/nng,  '경제/nng,  '국제/nng,  '글...</td>\n",
       "    </tr>\n",
       "    <tr>\n",
       "      <th>14</th>\n",
       "      <td>[[ 'fed/nng,  '가계/nng,  '경기/nng,  '경제/nng,  '국...</td>\n",
       "    </tr>\n",
       "    <tr>\n",
       "      <th>15</th>\n",
       "      <td>[[ 'fed/nng,  '가계/nng,  '경상/nng,  '경제/nng,  '국...</td>\n",
       "    </tr>\n",
       "    <tr>\n",
       "      <th>16</th>\n",
       "      <td>[[ 'fed/nng,  '가계/nng,  '경제/nng,  '국제/nng,  '글...</td>\n",
       "    </tr>\n",
       "    <tr>\n",
       "      <th>17</th>\n",
       "      <td>[[ 'fed/nng,  '가계/nng,  '경기/nng,  '경제/nng,  '국...</td>\n",
       "    </tr>\n",
       "    <tr>\n",
       "      <th>18</th>\n",
       "      <td>[[ 'fed/nng,  '가계/nng,  '경제/nng,  '국제/nng,  '글...</td>\n",
       "    </tr>\n",
       "    <tr>\n",
       "      <th>19</th>\n",
       "      <td>[[ 'fed/nng,  '가계/nng,  '경상/nng,  '경제/nng,  '국...</td>\n",
       "    </tr>\n",
       "    <tr>\n",
       "      <th>20</th>\n",
       "      <td>[[ 'fed/nng,  '가계/nng,  '경제/nng,  '국제/nng,  '글...</td>\n",
       "    </tr>\n",
       "    <tr>\n",
       "      <th>21</th>\n",
       "      <td>[[ 'fed/nng,  '가계/nng,  '경제/nng,  '국제/nng,  '글...</td>\n",
       "    </tr>\n",
       "    <tr>\n",
       "      <th>22</th>\n",
       "      <td>[[ 'fed/nng,  '가계/nng,  '경제/nng,  '국제/nng,  '글...</td>\n",
       "    </tr>\n",
       "    <tr>\n",
       "      <th>23</th>\n",
       "      <td>[[ 'fed/nng,  '가계/nng,  '경제/nng,  '국제/nng,  '글...</td>\n",
       "    </tr>\n",
       "    <tr>\n",
       "      <th>24</th>\n",
       "      <td>[[ 'fed/nng,  '가계/nng,  '경기/nng,  '경제/nng,  '국...</td>\n",
       "    </tr>\n",
       "    <tr>\n",
       "      <th>25</th>\n",
       "      <td>[[ 'fed/nng,  '가계/nng,  '경제/nng,  '국제/nng,  '글...</td>\n",
       "    </tr>\n",
       "    <tr>\n",
       "      <th>26</th>\n",
       "      <td>[[ 'fed/nng,  '가계/nng,  '경제/nng,  '국제/nng,  '글...</td>\n",
       "    </tr>\n",
       "    <tr>\n",
       "      <th>27</th>\n",
       "      <td>[[ 'fed/nng,  '가계/nng,  '경상/nng,  '경제/nng,  '국...</td>\n",
       "    </tr>\n",
       "    <tr>\n",
       "      <th>28</th>\n",
       "      <td>[[ 'fed/nng,  '가계/nng,  '경제/nng,  '국제/nng,  '글...</td>\n",
       "    </tr>\n",
       "    <tr>\n",
       "      <th>29</th>\n",
       "      <td>[[ 'fed/nng,  '가계/nng,  '경상/nng,  '경제/nng,  '국...</td>\n",
       "    </tr>\n",
       "  </tbody>\n",
       "</table>\n",
       "</div>"
      ],
      "text/plain": [
       "                                                    0\n",
       "0   [[ 'fed/nng,  '가계/nng,  '경상/nng,  '경제/nng,  '국...\n",
       "1   [[ 'fed/nng,  '가계/nng,  '경기/nng,  '경제/nng,  '국...\n",
       "2   [[ 'fed/nng,  '가계/nng,  '경상/nng,  '경제/nng,  '국...\n",
       "3   [[ 'fed/nng,  '가계/nng,  '경제/nng,  '국제/nng,  '글...\n",
       "4   [[ 'fed/nng,  '가계/nng,  '경제/nng,  '국제/nng,  '글...\n",
       "5   [[ 'fed/nng,  '가계/nng,  '경기/nng,  '경제/nng,  '국...\n",
       "6   [[ 'fed/nng,  '가계/nng,  '경제/nng,  '국제/nng,  '글...\n",
       "7   [[ 'fed/nng,  '가계/nng,  '경제/nng,  '국제/nng,  '글...\n",
       "8   [[ 'fed/nng,  '가계/nng,  '경제/nng,  '국제/nng,  '글...\n",
       "9   [[ 'fed/nng,  '가계/nng,  '경상/nng,  '경제/nng,  '국...\n",
       "10  [[ 'fed/nng,  '가계/nng,  '경기/nng,  '경제/nng,  '국...\n",
       "11  [[ 'fed/nng,  '가계/nng,  '경제/nng,  '국제/nng,  '글...\n",
       "12  [[ 'fed/nng,  '가계/nng,  '경제/nng,  '국제/nng,  '글...\n",
       "13  [[ 'fed/nng,  '가계/nng,  '경제/nng,  '국제/nng,  '글...\n",
       "14  [[ 'fed/nng,  '가계/nng,  '경기/nng,  '경제/nng,  '국...\n",
       "15  [[ 'fed/nng,  '가계/nng,  '경상/nng,  '경제/nng,  '국...\n",
       "16  [[ 'fed/nng,  '가계/nng,  '경제/nng,  '국제/nng,  '글...\n",
       "17  [[ 'fed/nng,  '가계/nng,  '경기/nng,  '경제/nng,  '국...\n",
       "18  [[ 'fed/nng,  '가계/nng,  '경제/nng,  '국제/nng,  '글...\n",
       "19  [[ 'fed/nng,  '가계/nng,  '경상/nng,  '경제/nng,  '국...\n",
       "20  [[ 'fed/nng,  '가계/nng,  '경제/nng,  '국제/nng,  '글...\n",
       "21  [[ 'fed/nng,  '가계/nng,  '경제/nng,  '국제/nng,  '글...\n",
       "22  [[ 'fed/nng,  '가계/nng,  '경제/nng,  '국제/nng,  '글...\n",
       "23  [[ 'fed/nng,  '가계/nng,  '경제/nng,  '국제/nng,  '글...\n",
       "24  [[ 'fed/nng,  '가계/nng,  '경기/nng,  '경제/nng,  '국...\n",
       "25  [[ 'fed/nng,  '가계/nng,  '경제/nng,  '국제/nng,  '글...\n",
       "26  [[ 'fed/nng,  '가계/nng,  '경제/nng,  '국제/nng,  '글...\n",
       "27  [[ 'fed/nng,  '가계/nng,  '경상/nng,  '경제/nng,  '국...\n",
       "28  [[ 'fed/nng,  '가계/nng,  '경제/nng,  '국제/nng,  '글...\n",
       "29  [[ 'fed/nng,  '가계/nng,  '경상/nng,  '경제/nng,  '국..."
      ]
     },
     "execution_count": 52,
     "metadata": {},
     "output_type": "execute_result"
    }
   ],
   "source": [
    "pd.DataFrame(posterior_list)"
   ]
  },
  {
   "cell_type": "code",
   "execution_count": 38,
   "metadata": {},
   "outputs": [],
   "source": [
    "pd.DataFrame(posterior_list).to_csv('posterior_list_real.csv')"
   ]
  },
  {
   "cell_type": "code",
   "execution_count": 39,
   "metadata": {},
   "outputs": [],
   "source": [
    "cv = CountVectorizer(ngram_range=(1,1), min_df = 15, tokenizer = my_tokenizer)"
   ]
  },
  {
   "cell_type": "code",
   "execution_count": 40,
   "metadata": {},
   "outputs": [],
   "source": [
    "X = cv.fit_transform(corpus['token_ngram'])"
   ]
  },
  {
   "cell_type": "code",
   "execution_count": 41,
   "metadata": {},
   "outputs": [
    {
     "data": {
      "text/plain": [
       "40351"
      ]
     },
     "execution_count": 41,
     "metadata": {},
     "output_type": "execute_result"
    }
   ],
   "source": [
    "ngram_list = cv.get_feature_names()\n",
    "len(ngram_list)"
   ]
  },
  {
   "cell_type": "code",
   "execution_count": 42,
   "metadata": {},
   "outputs": [
    {
     "name": "stderr",
     "output_type": "stream",
     "text": [
      "30it [09:42, 19.42s/it]\n"
     ]
    },
    {
     "data": {
      "text/plain": [
       "(30, 40351)"
      ]
     },
     "execution_count": 42,
     "metadata": {},
     "output_type": "execute_result"
    }
   ],
   "source": [
    "polarity_scores = np.zeros((30, len(ngram_list)))\n",
    "\n",
    "for i, itr in tqdm(enumerate(posterior_list)):\n",
    "    for idx, n_gram in enumerate(itr[0]):\n",
    "        tmp_n = ngram_list.index(n_gram)\n",
    "        p_score = float(itr[3][idx])/float(itr[1][idx])\n",
    "        polarity_scores[i][tmp_n] = p_score\n",
    "        \n",
    "polarity_scores.shape"
   ]
  },
  {
   "cell_type": "code",
   "execution_count": 43,
   "metadata": {},
   "outputs": [],
   "source": [
    "for i, v in enumerate(polarity_scores):\n",
    "    for j, w in enumerate(v):\n",
    "         if polarity_scores[i][j] == 0:\n",
    "             polarity_scores[i][j] = None"
   ]
  },
  {
   "cell_type": "code",
   "execution_count": 44,
   "metadata": {},
   "outputs": [],
   "source": [
    "df_p_scores = pd.DataFrame(polarity_scores)\n",
    "df_p_scores = df_p_scores.fillna(df_p_scores.mean())"
   ]
  },
  {
   "cell_type": "code",
   "execution_count": 45,
   "metadata": {},
   "outputs": [
    {
     "data": {
      "text/plain": [
       "0     1\n",
       "1     1\n",
       "2     1\n",
       "3     1\n",
       "4     1\n",
       "5     1\n",
       "6     1\n",
       "7     1\n",
       "8     1\n",
       "9     1\n",
       "10    1\n",
       "11    1\n",
       "12    1\n",
       "13    1\n",
       "14    1\n",
       "15    1\n",
       "16    1\n",
       "17    1\n",
       "18    1\n",
       "19    1\n",
       "20    1\n",
       "21    1\n",
       "22    1\n",
       "23    1\n",
       "24    1\n",
       "25    1\n",
       "26    1\n",
       "27    1\n",
       "28    1\n",
       "29    1\n",
       "dtype: int64"
      ]
     },
     "execution_count": 45,
     "metadata": {},
     "output_type": "execute_result"
    }
   ],
   "source": [
    "df_p_scores.T.isnull().sum()"
   ]
  },
  {
   "cell_type": "code",
   "execution_count": 46,
   "metadata": {},
   "outputs": [],
   "source": [
    "avg_polarity_scores = list(df_p_scores.mean())"
   ]
  },
  {
   "cell_type": "code",
   "execution_count": 47,
   "metadata": {},
   "outputs": [
    {
     "data": {
      "text/html": [
       "<div>\n",
       "<style scoped>\n",
       "    .dataframe tbody tr th:only-of-type {\n",
       "        vertical-align: middle;\n",
       "    }\n",
       "\n",
       "    .dataframe tbody tr th {\n",
       "        vertical-align: top;\n",
       "    }\n",
       "\n",
       "    .dataframe thead th {\n",
       "        text-align: right;\n",
       "    }\n",
       "</style>\n",
       "<table border=\"1\" class=\"dataframe\">\n",
       "  <thead>\n",
       "    <tr style=\"text-align: right;\">\n",
       "      <th></th>\n",
       "      <th>0</th>\n",
       "    </tr>\n",
       "  </thead>\n",
       "  <tbody>\n",
       "    <tr>\n",
       "      <th>'fed/nng</th>\n",
       "      <td>0.841599</td>\n",
       "    </tr>\n",
       "    <tr>\n",
       "      <th>'가계/nng</th>\n",
       "      <td>0.275854</td>\n",
       "    </tr>\n",
       "    <tr>\n",
       "      <th>'경기/nng</th>\n",
       "      <td>0.213615</td>\n",
       "    </tr>\n",
       "    <tr>\n",
       "      <th>'경상/nng</th>\n",
       "      <td>0.356412</td>\n",
       "    </tr>\n",
       "    <tr>\n",
       "      <th>'경제/nng</th>\n",
       "      <td>0.353738</td>\n",
       "    </tr>\n",
       "    <tr>\n",
       "      <th>...</th>\n",
       "      <td>...</td>\n",
       "    </tr>\n",
       "    <tr>\n",
       "      <th>龍/nng</th>\n",
       "      <td>0.435291</td>\n",
       "    </tr>\n",
       "    <tr>\n",
       "      <th>劉/nng</th>\n",
       "      <td>0.753047</td>\n",
       "    </tr>\n",
       "    <tr>\n",
       "      <th>柳/nng</th>\n",
       "      <td>1.042056</td>\n",
       "    </tr>\n",
       "    <tr>\n",
       "      <th>利/nng</th>\n",
       "      <td>0.535285</td>\n",
       "    </tr>\n",
       "    <tr>\n",
       "      <th>李/nng</th>\n",
       "      <td>1.132693</td>\n",
       "    </tr>\n",
       "  </tbody>\n",
       "</table>\n",
       "<p>40351 rows × 1 columns</p>\n",
       "</div>"
      ],
      "text/plain": [
       "                  0\n",
       " 'fed/nng  0.841599\n",
       " '가계/nng   0.275854\n",
       " '경기/nng   0.213615\n",
       " '경상/nng   0.356412\n",
       " '경제/nng   0.353738\n",
       "...             ...\n",
       "龍/nng      0.435291\n",
       "劉/nng      0.753047\n",
       "柳/nng      1.042056\n",
       "利/nng      0.535285\n",
       "李/nng      1.132693\n",
       "\n",
       "[40351 rows x 1 columns]"
      ]
     },
     "execution_count": 47,
     "metadata": {},
     "output_type": "execute_result"
    }
   ],
   "source": [
    "ps = pd.DataFrame(avg_polarity_scores, index=ngram_list)\n",
    "ps"
   ]
  },
  {
   "cell_type": "code",
   "execution_count": 48,
   "metadata": {},
   "outputs": [
    {
     "data": {
      "text/html": [
       "<div>\n",
       "<style scoped>\n",
       "    .dataframe tbody tr th:only-of-type {\n",
       "        vertical-align: middle;\n",
       "    }\n",
       "\n",
       "    .dataframe tbody tr th {\n",
       "        vertical-align: top;\n",
       "    }\n",
       "\n",
       "    .dataframe thead th {\n",
       "        text-align: right;\n",
       "    }\n",
       "</style>\n",
       "<table border=\"1\" class=\"dataframe\">\n",
       "  <thead>\n",
       "    <tr style=\"text-align: right;\">\n",
       "      <th></th>\n",
       "      <th>0</th>\n",
       "    </tr>\n",
       "  </thead>\n",
       "  <tbody>\n",
       "    <tr>\n",
       "      <th>'가계/nng</th>\n",
       "      <td>0.275854</td>\n",
       "    </tr>\n",
       "    <tr>\n",
       "      <th>'경기/nng</th>\n",
       "      <td>0.213615</td>\n",
       "    </tr>\n",
       "    <tr>\n",
       "      <th>'경상/nng</th>\n",
       "      <td>0.356412</td>\n",
       "    </tr>\n",
       "    <tr>\n",
       "      <th>'경제/nng</th>\n",
       "      <td>0.353738</td>\n",
       "    </tr>\n",
       "    <tr>\n",
       "      <th>'글로벌/nng</th>\n",
       "      <td>1.759334</td>\n",
       "    </tr>\n",
       "    <tr>\n",
       "      <th>...</th>\n",
       "      <td>...</td>\n",
       "    </tr>\n",
       "    <tr>\n",
       "      <th>年/nng</th>\n",
       "      <td>1.545856</td>\n",
       "    </tr>\n",
       "    <tr>\n",
       "      <th>連/nng</th>\n",
       "      <td>0.551367</td>\n",
       "    </tr>\n",
       "    <tr>\n",
       "      <th>龍/nng</th>\n",
       "      <td>0.435291</td>\n",
       "    </tr>\n",
       "    <tr>\n",
       "      <th>劉/nng</th>\n",
       "      <td>0.753047</td>\n",
       "    </tr>\n",
       "    <tr>\n",
       "      <th>利/nng</th>\n",
       "      <td>0.535285</td>\n",
       "    </tr>\n",
       "  </tbody>\n",
       "</table>\n",
       "<p>20378 rows × 1 columns</p>\n",
       "</div>"
      ],
      "text/plain": [
       "                  0\n",
       " '가계/nng   0.275854\n",
       " '경기/nng   0.213615\n",
       " '경상/nng   0.356412\n",
       " '경제/nng   0.353738\n",
       " '글로벌/nng  1.759334\n",
       "...             ...\n",
       "年/nng      1.545856\n",
       "連/nng      0.551367\n",
       "龍/nng      0.435291\n",
       "劉/nng      0.753047\n",
       "利/nng      0.535285\n",
       "\n",
       "[20378 rows x 1 columns]"
      ]
     },
     "execution_count": 48,
     "metadata": {},
     "output_type": "execute_result"
    }
   ],
   "source": [
    "ps = ps[ps[0].apply(lambda x: x > 1.3 or x < 0.76)]\n",
    "ps"
   ]
  },
  {
   "cell_type": "code",
   "execution_count": 49,
   "metadata": {},
   "outputs": [],
   "source": [
    "ps.to_csv('polarity_score_new.csv', encoding = 'utf-8')"
   ]
  },
  {
   "cell_type": "code",
   "execution_count": 50,
   "metadata": {},
   "outputs": [
    {
     "data": {
      "text/html": [
       "<div>\n",
       "<style scoped>\n",
       "    .dataframe tbody tr th:only-of-type {\n",
       "        vertical-align: middle;\n",
       "    }\n",
       "\n",
       "    .dataframe tbody tr th {\n",
       "        vertical-align: top;\n",
       "    }\n",
       "\n",
       "    .dataframe thead th {\n",
       "        text-align: right;\n",
       "    }\n",
       "</style>\n",
       "<table border=\"1\" class=\"dataframe\">\n",
       "  <thead>\n",
       "    <tr style=\"text-align: right;\">\n",
       "      <th></th>\n",
       "      <th>0</th>\n",
       "    </tr>\n",
       "  </thead>\n",
       "  <tbody>\n",
       "    <tr>\n",
       "      <th>'가계/nng</th>\n",
       "      <td>0.275854</td>\n",
       "    </tr>\n",
       "    <tr>\n",
       "      <th>'경기/nng</th>\n",
       "      <td>0.213615</td>\n",
       "    </tr>\n",
       "    <tr>\n",
       "      <th>'경상/nng</th>\n",
       "      <td>0.356412</td>\n",
       "    </tr>\n",
       "    <tr>\n",
       "      <th>'경제/nng</th>\n",
       "      <td>0.353738</td>\n",
       "    </tr>\n",
       "    <tr>\n",
       "      <th>'금리/nng</th>\n",
       "      <td>0.752934</td>\n",
       "    </tr>\n",
       "    <tr>\n",
       "      <th>...</th>\n",
       "      <td>...</td>\n",
       "    </tr>\n",
       "    <tr>\n",
       "      <th>兩難/nng</th>\n",
       "      <td>0.190143</td>\n",
       "    </tr>\n",
       "    <tr>\n",
       "      <th>連/nng</th>\n",
       "      <td>0.551367</td>\n",
       "    </tr>\n",
       "    <tr>\n",
       "      <th>龍/nng</th>\n",
       "      <td>0.435291</td>\n",
       "    </tr>\n",
       "    <tr>\n",
       "      <th>劉/nng</th>\n",
       "      <td>0.753047</td>\n",
       "    </tr>\n",
       "    <tr>\n",
       "      <th>利/nng</th>\n",
       "      <td>0.535285</td>\n",
       "    </tr>\n",
       "  </tbody>\n",
       "</table>\n",
       "<p>9784 rows × 1 columns</p>\n",
       "</div>"
      ],
      "text/plain": [
       "                 0\n",
       " '가계/nng  0.275854\n",
       " '경기/nng  0.213615\n",
       " '경상/nng  0.356412\n",
       " '경제/nng  0.353738\n",
       " '금리/nng  0.752934\n",
       "...            ...\n",
       "兩難/nng    0.190143\n",
       "連/nng     0.551367\n",
       "龍/nng     0.435291\n",
       "劉/nng     0.753047\n",
       "利/nng     0.535285\n",
       "\n",
       "[9784 rows x 1 columns]"
      ]
     },
     "execution_count": 50,
     "metadata": {},
     "output_type": "execute_result"
    }
   ],
   "source": [
    "ps[ps[0]<0.76]"
   ]
  },
  {
   "cell_type": "code",
   "execution_count": 51,
   "metadata": {},
   "outputs": [
    {
     "data": {
      "text/html": [
       "<div>\n",
       "<style scoped>\n",
       "    .dataframe tbody tr th:only-of-type {\n",
       "        vertical-align: middle;\n",
       "    }\n",
       "\n",
       "    .dataframe tbody tr th {\n",
       "        vertical-align: top;\n",
       "    }\n",
       "\n",
       "    .dataframe thead th {\n",
       "        text-align: right;\n",
       "    }\n",
       "</style>\n",
       "<table border=\"1\" class=\"dataframe\">\n",
       "  <thead>\n",
       "    <tr style=\"text-align: right;\">\n",
       "      <th></th>\n",
       "      <th>0</th>\n",
       "    </tr>\n",
       "  </thead>\n",
       "  <tbody>\n",
       "    <tr>\n",
       "      <th>'글로벌/nng</th>\n",
       "      <td>1.759334</td>\n",
       "    </tr>\n",
       "    <tr>\n",
       "      <th>'금융기관/nng</th>\n",
       "      <td>1.714611</td>\n",
       "    </tr>\n",
       "    <tr>\n",
       "      <th>'금융시장/nng</th>\n",
       "      <td>2.132278</td>\n",
       "    </tr>\n",
       "    <tr>\n",
       "      <th>'대해/vv</th>\n",
       "      <td>2.213274</td>\n",
       "    </tr>\n",
       "    <tr>\n",
       "      <th>'미/nng</th>\n",
       "      <td>4.256260</td>\n",
       "    </tr>\n",
       "    <tr>\n",
       "      <th>...</th>\n",
       "      <td>...</td>\n",
       "    </tr>\n",
       "    <tr>\n",
       "      <th>魯/nng</th>\n",
       "      <td>3.159873</td>\n",
       "    </tr>\n",
       "    <tr>\n",
       "      <th>不/nng</th>\n",
       "      <td>1.344120</td>\n",
       "    </tr>\n",
       "    <tr>\n",
       "      <th>女/nng</th>\n",
       "      <td>1.624824</td>\n",
       "    </tr>\n",
       "    <tr>\n",
       "      <th>女心/nng</th>\n",
       "      <td>2.487814</td>\n",
       "    </tr>\n",
       "    <tr>\n",
       "      <th>年/nng</th>\n",
       "      <td>1.545856</td>\n",
       "    </tr>\n",
       "  </tbody>\n",
       "</table>\n",
       "<p>10594 rows × 1 columns</p>\n",
       "</div>"
      ],
      "text/plain": [
       "                   0\n",
       " '글로벌/nng   1.759334\n",
       " '금융기관/nng  1.714611\n",
       " '금융시장/nng  2.132278\n",
       " '대해/vv     2.213274\n",
       " '미/nng     4.256260\n",
       "...              ...\n",
       "魯/nng       3.159873\n",
       "不/nng       1.344120\n",
       "女/nng       1.624824\n",
       "女心/nng      2.487814\n",
       "年/nng       1.545856\n",
       "\n",
       "[10594 rows x 1 columns]"
      ]
     },
     "execution_count": 51,
     "metadata": {},
     "output_type": "execute_result"
    }
   ],
   "source": [
    "ps[ps[0]>1.3]"
   ]
  },
  {
   "cell_type": "code",
   "execution_count": null,
   "metadata": {},
   "outputs": [],
   "source": []
  },
  {
   "cell_type": "code",
   "execution_count": null,
   "metadata": {},
   "outputs": [],
   "source": []
  },
  {
   "cell_type": "code",
   "execution_count": null,
   "metadata": {},
   "outputs": [],
   "source": []
  },
  {
   "cell_type": "code",
   "execution_count": null,
   "metadata": {},
   "outputs": [],
   "source": []
  }
 ],
 "metadata": {
  "kernelspec": {
   "display_name": "Python 3",
   "language": "python",
   "name": "python3"
  },
  "language_info": {
   "codemirror_mode": {
    "name": "ipython",
    "version": 3
   },
   "file_extension": ".py",
   "mimetype": "text/x-python",
   "name": "python",
   "nbconvert_exporter": "python",
   "pygments_lexer": "ipython3",
   "version": "3.7.6"
  }
 },
 "nbformat": 4,
 "nbformat_minor": 4
}

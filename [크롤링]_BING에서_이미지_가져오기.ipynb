{
  "nbformat": 4,
  "nbformat_minor": 0,
  "metadata": {
    "colab": {
      "name": "[크롤링] BING에서 이미지 가져오기",
      "provenance": [],
      "collapsed_sections": [],
      "toc_visible": true,
      "include_colab_link": true
    },
    "kernelspec": {
      "name": "python3",
      "display_name": "Python 3"
    }
  },
  "cells": [
    {
      "cell_type": "markdown",
      "metadata": {
        "id": "view-in-github",
        "colab_type": "text"
      },
      "source": [
        "<a href=\"https://colab.research.google.com/github/Sjing2/SJ_project/blob/master/%5B%ED%81%AC%EB%A1%A4%EB%A7%81%5D_BING%EC%97%90%EC%84%9C_%EC%9D%B4%EB%AF%B8%EC%A7%80_%EA%B0%80%EC%A0%B8%EC%98%A4%EA%B8%B0.ipynb\" target=\"_parent\"><img src=\"https://colab.research.google.com/assets/colab-badge.svg\" alt=\"Open In Colab\"/></a>"
      ]
    },
    {
      "cell_type": "markdown",
      "metadata": {
        "id": "Xruk87gSefTO",
        "colab_type": "text"
      },
      "source": [
        "#드라이브 mount"
      ]
    },
    {
      "cell_type": "code",
      "metadata": {
        "id": "4jfGE6UkDwzY",
        "colab_type": "code",
        "colab": {
          "base_uri": "https://localhost:8080/",
          "height": 124
        },
        "outputId": "ac357879-792d-4e90-ea75-23825d7480bf"
      },
      "source": [
        "from google.colab import drive\n",
        "drive.mount('/content/drive')"
      ],
      "execution_count": 1,
      "outputs": [
        {
          "output_type": "stream",
          "text": [
            "Go to this URL in a browser: https://accounts.google.com/o/oauth2/auth?client_id=947318989803-6bn6qk8qdgf4n4g3pfee6491hc0brc4i.apps.googleusercontent.com&redirect_uri=urn%3aietf%3awg%3aoauth%3a2.0%3aoob&response_type=code&scope=email%20https%3a%2f%2fwww.googleapis.com%2fauth%2fdocs.test%20https%3a%2f%2fwww.googleapis.com%2fauth%2fdrive%20https%3a%2f%2fwww.googleapis.com%2fauth%2fdrive.photos.readonly%20https%3a%2f%2fwww.googleapis.com%2fauth%2fpeopleapi.readonly\n",
            "\n",
            "Enter your authorization code:\n",
            "··········\n",
            "Mounted at /content/drive\n"
          ],
          "name": "stdout"
        }
      ]
    },
    {
      "cell_type": "code",
      "metadata": {
        "id": "V8eo-FoihX7K",
        "colab_type": "code",
        "colab": {}
      },
      "source": [
        "from bs4 import BeautifulSoup\n",
        "import requests\n",
        "import  urllib.request"
      ],
      "execution_count": 2,
      "outputs": []
    },
    {
      "cell_type": "markdown",
      "metadata": {
        "id": "iXp22zQohV9V",
        "colab_type": "text"
      },
      "source": [
        "#빙(BING) 이미지 크롤링"
      ]
    },
    {
      "cell_type": "code",
      "metadata": {
        "id": "m2Ai8Beuyi8X",
        "colab_type": "code",
        "colab": {}
      },
      "source": [
        "img_urls=[]\n",
        "\n",
        "a=1\n",
        "res= requests.get(\"https://www.bing.com/images/async?q=%EC%8C%A9%EC%96%BC&first=70&count=35&relp=35&scenario=ImageBasicHover&datsrc=I&layout=RowBased&mmasync=1&dgState=x*654_y*1351_h*182_c*3_i*71_r*15&IG=9A71295AEF024191820A1856BB7F7795&SFX=3&iid=images.5524\")\n",
        "bs=BeautifulSoup(res.content, 'lxml')\n",
        "\n",
        "for i in bs.select(\"img\"):\n",
        "    img_urls.append(i.attrs[\"src\"])\n",
        "\n",
        "\n",
        "for img_url in img_urls:\n",
        "    urllib.request.urlretrieve(img_url,\"/content/drive/My Drive/[github] 프로젝트 코드 정리/빙 이미지\"+ str(a) + \".jpg\")\n",
        "    a+=1"
      ],
      "execution_count": 3,
      "outputs": []
    }
  ]
}
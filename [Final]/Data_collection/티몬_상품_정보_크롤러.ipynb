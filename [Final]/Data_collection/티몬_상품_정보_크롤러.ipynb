{
 "cells": [
  {
   "cell_type": "code",
   "execution_count": 1,
   "metadata": {},
   "outputs": [],
   "source": [
    "#Step 0. 필요한 모듈과 라이브러리를 로딩합니다.\n",
    "import sys\n",
    "import os\n",
    "import pandas as pd\n",
    "import numpy as np\n",
    "\n",
    "from bs4 import BeautifulSoup\n",
    "from selenium import webdriver\n",
    "import time\n",
    "import tqdm\n",
    "from tqdm.notebook import tqdm\n",
    "import re"
   ]
  },
  {
   "cell_type": "markdown",
   "metadata": {},
   "source": [
    "## 드라이버 설치\n",
    "https://chromedriver.chromium.org/downloads\n",
    "\n",
    "#드라이버랑 크롬버젼이랑 일치시켜주어야함. 드라이버 다운 받을 때 참고(메뉴 => 도움말 => Chrome 정보에서 확인)"
   ]
  },
  {
   "cell_type": "code",
   "execution_count": 2,
   "metadata": {},
   "outputs": [],
   "source": [
    "#Step 1. 크롬 웹브라우저 실행\n",
    "#경로설정\n",
    "path = \"C:/Users/sojeo/OneDrive/바탕 화면/chromedriver_win32/chromedriver.exe\"   # 맥은 \"chromedriver\"\n",
    "driver = webdriver.Chrome(path)"
   ]
  },
  {
   "cell_type": "code",
   "execution_count": 3,
   "metadata": {},
   "outputs": [],
   "source": [
    "# txt_file_path = 'productUrlList.txt'"
   ]
  },
  {
   "cell_type": "code",
   "execution_count": 5,
   "metadata": {},
   "outputs": [],
   "source": [
    "# #productUrlList.txt에서 링크 리스트 불러오기\n",
    "# r = open(txt_file_path, mode='rt', encoding='utf-8')\n",
    "# productUrlList = r.readlines()\n",
    "# len(productUrlList)"
   ]
  },
  {
   "cell_type": "code",
   "execution_count": null,
   "metadata": {},
   "outputs": [
    {
     "data": {
      "application/vnd.jupyter.widget-view+json": {
       "model_id": "0996ac82ccf34330ba8ef3744a4caf00",
       "version_major": 2,
       "version_minor": 0
      },
      "text/plain": [
       "HBox(children=(FloatProgress(value=0.0, max=11808.0), HTML(value='')))"
      ]
     },
     "metadata": {},
     "output_type": "display_data"
    }
   ],
   "source": [
    "import json\n",
    "\n",
    "def toJson(data, file_path) :\n",
    "    with open(file_path, 'w', encoding='utf-8') as file :\n",
    "        json.dump(data, file)\n",
    "    return \n",
    "\n",
    "txt_file_path_ls = ['productUrlList_간편식_냉장_냉동.txt']\n",
    "\n",
    "for txt_file_path in txt_file_path_ls :\n",
    "\n",
    "    #productUrlList.txt에서 링크 리스트 불러오기\n",
    "    r = open(txt_file_path, mode='rt', encoding='utf-8')\n",
    "    productUrlList = r.readlines()\n",
    "\n",
    "    error_ls = []\n",
    "    prod_data = []\n",
    "    satisfaction_data = []\n",
    "\n",
    "    for prod_url in tqdm(productUrlList) :\n",
    "        try :\n",
    "            driver.get(prod_url)\n",
    "            time.sleep(1)\n",
    "\n",
    "            #상품 정보 뽑기\n",
    "\n",
    "            #상품 고유번호\n",
    "            prod_idx = re.sub('http://www.tmon.co.kr/deal/','',prod_url)\n",
    "            prod_idx = re.sub('\\n','',prod_idx)\n",
    "            prod_idx = int(prod_idx)\n",
    "\n",
    "            #상품명\n",
    "            productTitle= driver.find_element_by_class_name(\"deal_title_main\").text\n",
    "\n",
    "            #상품 카테고리 최대 6층\n",
    "            category_ls = []\n",
    "            for i in range(1, 7) :\n",
    "                try :\n",
    "                    category= driver.find_element_by_class_name(\"category._depth{}\".format(i)).text\n",
    "                    category_ls.append(category)\n",
    "                except :\n",
    "                    break\n",
    "\n",
    "            #상품 가격\n",
    "            productPrice = driver.find_element_by_class_name(\"number_unit\").text #'21,900원'으로 나오기 때문에 전처리 필요 정규표현식으로 숫자만 남기고 int\n",
    "            temp = re.findall('[0-9]*', productPrice)\n",
    "            productPrice = int(''.join(temp))\n",
    "\n",
    "            #구매횟수 \n",
    "            buy_count = driver.find_element_by_class_name(\"deal_price_buy_count\").text\n",
    "            temp = re.findall('[0-9]*', buy_count)\n",
    "            buy_count = int(''.join(temp))\n",
    "\n",
    "            #상품 만족도 star_rate_num\n",
    "            try :\n",
    "                prod_satis = float(driver.find_element_by_class_name(\"grade_average_score\").text)\n",
    "            except :\n",
    "                prod_satis = 0.\n",
    "\n",
    "            #상품이미지 url\n",
    "            image = driver.find_element_by_class_name(\"active\").find_element_by_tag_name('img').get_attribute('src')\n",
    "\n",
    "            #상품종료여부(품절 = 0, 구매가능 = 1)\n",
    "            if driver.find_elements_by_class_name(\"col2\")[1].text == '바로구매' :\n",
    "                stocks = 1\n",
    "            else : \n",
    "                stocks = 0\n",
    "\n",
    "\n",
    "            prod_data.append({\n",
    "                'prod_idx' : prod_idx,\n",
    "                'image' : image,\n",
    "                'title' : productTitle,\n",
    "                'category' : category_ls,\n",
    "                'price' : productPrice,\n",
    "                'stocks' : stocks,\n",
    "                'prod_satis' : prod_satis,\n",
    "                'prod_url' : prod_url,\n",
    "                'buy_count' : buy_count\n",
    "            })\n",
    "\n",
    "            #상품 만족도 & 배송 만족도\n",
    "            customer_satisfaction = driver.find_elements_by_class_name(\"customer_satisfaction_box\")\n",
    "            avg_seller_prod_satis = int(customer_satisfaction[0].find_element_by_class_name('num').text)\n",
    "            avg_seller_ship_satis = int(customer_satisfaction[1].find_element_by_class_name('num').text)\n",
    "\n",
    "            try : #옵션 없는 경우 존재\n",
    "                review_stats = driver.find_elements_by_class_name(\"review_stats_item\")\n",
    "\n",
    "                #옵션1과 만족도 (ex: 맛 - 73)\n",
    "                use_opt1 = review_stats[0].find_element_by_class_name('keyword').text\n",
    "                avg_use_satis1 = review_stats[0].find_element_by_class_name('pct').text\n",
    "                avg_use_satis1 = re.sub('\\%','',avg_use_satis1)\n",
    "                avg_use_satis1 = int(avg_use_satis1)\n",
    "\n",
    "                #옵션2와 만족도\n",
    "                use_opt2 = review_stats[1].find_element_by_class_name('keyword').text\n",
    "                avg_use_satis2 = review_stats[1].find_element_by_class_name('pct').text\n",
    "                avg_use_satis2 = re.sub('\\%','',avg_use_satis2)\n",
    "                avg_use_satis2 = int(avg_use_satis2)\n",
    "\n",
    "            except :\n",
    "                use_opt1 =''\n",
    "                avg_use_satis1 = 0\n",
    "                use_opt2 =''\n",
    "                avg_use_satis2 = 0\n",
    "\n",
    "            satisfaction_data.append({\n",
    "                'prod_idx' : prod_idx,\n",
    "                'avg_seller_prod_satis' : avg_seller_prod_satis,\n",
    "                'avg_seller_ship_satis' : avg_seller_ship_satis,\n",
    "                'use_opt1' : use_opt1,\n",
    "                'avg_use_satis1' : avg_use_satis1,\n",
    "                'use_opt2' : use_opt2,\n",
    "                'avg_use_satis2' : avg_use_satis2,\n",
    "                'prod_satis' : prod_satis,\n",
    "                'prod_url' : prod_url,   \n",
    "            })\n",
    "\n",
    "        except : \n",
    "            error_ls.append(prod_url)\n",
    "\n",
    "    toJson(prod_data, 'prod_data_{}.json'.format(txt_file_path[15:-4]))\n",
    "    toJson(satisfaction_data, 'satisfaction_data_{}.json'.format(txt_file_path[15:-4]))\n",
    "    toJson(error_ls, 'error_data_{}.json'.format(txt_file_path[15:-4]))\n",
    "\n",
    "#중간에 멈췄으면, 아래 코드 실행 후 **반복문 범위와 **파일저장명(file_path) 변경해서 재실행\n",
    "#print(productUrlList.index(prod_data[-1]))"
   ]
  },
  {
   "cell_type": "code",
   "execution_count": null,
   "metadata": {},
   "outputs": [],
   "source": [
    "data_df = pd.read_json('satisfaction_data_과일.json')\n",
    "data_df"
   ]
  }
 ],
 "metadata": {
  "kernelspec": {
   "display_name": "Python 3",
   "language": "python",
   "name": "python3"
  },
  "language_info": {
   "codemirror_mode": {
    "name": "ipython",
    "version": 3
   },
   "file_extension": ".py",
   "mimetype": "text/x-python",
   "name": "python",
   "nbconvert_exporter": "python",
   "pygments_lexer": "ipython3",
   "version": "3.7.6"
  }
 },
 "nbformat": 4,
 "nbformat_minor": 4
}

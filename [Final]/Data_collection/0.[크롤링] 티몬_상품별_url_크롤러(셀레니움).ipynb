{
 "cells": [
  {
   "cell_type": "code",
   "execution_count": 1,
   "metadata": {},
   "outputs": [
    {
     "name": "stdout",
     "output_type": "stream",
     "text": [
      "('64bit', 'WindowsPE')\n"
     ]
    }
   ],
   "source": [
    "import platform\n",
    "print(platform.architecture())"
   ]
  },
  {
   "cell_type": "code",
   "execution_count": 2,
   "metadata": {},
   "outputs": [
    {
     "name": "stderr",
     "output_type": "stream",
     "text": [
      "Python 3.6.10 :: Anaconda, Inc.\n"
     ]
    }
   ],
   "source": [
    "!python --version"
   ]
  },
  {
   "cell_type": "code",
   "execution_count": 3,
   "metadata": {},
   "outputs": [
    {
     "data": {
      "text/plain": [
       "'C:\\\\Users\\\\bae\\\\셀레니움 크롤러'"
      ]
     },
     "execution_count": 3,
     "metadata": {},
     "output_type": "execute_result"
    }
   ],
   "source": [
    "pwd"
   ]
  },
  {
   "cell_type": "code",
   "execution_count": 1,
   "metadata": {},
   "outputs": [],
   "source": [
    "#Step 0. 필요한 모듈과 라이브러리를 로딩합니다.\n",
    "import sys\n",
    "import os\n",
    "import pandas as pd\n",
    "import numpy as np\n",
    "\n",
    "from bs4 import BeautifulSoup\n",
    "from selenium import webdriver\n",
    "import time\n",
    "import tqdm\n",
    "from tqdm.notebook import tqdm\n",
    "import re"
   ]
  },
  {
   "cell_type": "markdown",
   "metadata": {},
   "source": [
    "#드라이버 설치\n",
    "https://chromedriver.chromium.org/downloads\n",
    "#드라이버랑 크롬버젼이랑 일치시켜주어야함. 드라이버 다운 받을 때 참고(메뉴 => 도움말 => Chrome 정보에서 확인)"
   ]
  },
  {
   "cell_type": "code",
   "execution_count": 74,
   "metadata": {
    "code_folding": []
   },
   "outputs": [],
   "source": [
    "#드라이버랑 크롬버젼이랑 일치시켜주어야함. 드라이버 다운 받을 때 참고\n",
    "\n",
    "#Step 1. 크롬 웹브라우저 실행\n",
    "#경로설정\n",
    "path = \"C:/Users/bae/Desktop/chromedriver.exe\"   # 맥은 \"chromedriver\"\n",
    "driver = webdriver.Chrome(path)\n",
    "\n",
    "#start url 설정. 카테고리별로 다름\n",
    "driver.get('http://www.tmon.co.kr/deallist/52010000')\n",
    "time.sleep(2)\n",
    "\n",
    "# 오늘 하루 보지않기 클릭\n",
    "try :\n",
    "    driver.find_element_by_xpath(\"\"\"/html/body/div[2]/div/button/span\"\"\").click( )\n",
    "except :\n",
    "    pass"
   ]
  },
  {
   "cell_type": "code",
   "execution_count": 75,
   "metadata": {},
   "outputs": [],
   "source": [
    "#상품 더 보기가 있다면 상품 더 보기 클릭\n",
    "try :\n",
    "    driver.find_element_by_xpath(\"\"\"//*[@id=\"_btnMoreDealList\"]\"\"\").click( )\n",
    "except :\n",
    "    pass"
   ]
  },
  {
   "cell_type": "code",
   "execution_count": 76,
   "metadata": {},
   "outputs": [
    {
     "name": "stdout",
     "output_type": "stream",
     "text": [
      "product total count : 17,323 \n",
      "과일 scrolling : 408/17,323\n",
      "과일 scrolling : 608/17,323\n",
      "과일 scrolling : 808/17,323\n",
      "과일 scrolling : 1008/17,323\n",
      "과일 scrolling : 1208/17,323\n",
      "과일 scrolling : 1408/17,323\n",
      "과일 scrolling : 1607/17,323\n",
      "과일 scrolling : 1807/17,323\n",
      "과일 scrolling : 2007/17,323\n",
      "과일 scrolling : 2207/17,323\n",
      "product total count : 13,203 \n",
      "채소 scrolling : 308/13,203\n",
      "채소 scrolling : 508/13,203\n",
      "채소 scrolling : 708/13,203\n",
      "채소 scrolling : 908/13,203\n",
      "채소 scrolling : 1108/13,203\n",
      "채소 scrolling : 1308/13,203\n",
      "채소 scrolling : 1508/13,203\n",
      "채소 scrolling : 1708/13,203\n",
      "채소 scrolling : 1908/13,203\n",
      "채소 scrolling : 2108/13,203\n",
      "채소 scrolling : 2308/13,203\n",
      "채소 scrolling : 2508/13,203\n",
      "채소 scrolling : 2708/13,203\n"
     ]
    }
   ],
   "source": [
    "SCROLL_PAUSE_TIME = 2\n",
    "\n",
    "#긁을 카테고리별 시작 url 리스트 ex:과일,채소\n",
    "start_url_ls = [\"http://www.tmon.co.kr/deallist/52030000\", \"http://www.tmon.co.kr/deallist/52160000\"]\n",
    "\n",
    "for url, category in zip(start_url_ls,['과일', '채소']) :\n",
    "    driver.get(url +\"#sortType=BUY_COUNT\")   #판매수 필터로 설정\n",
    "    time.sleep(2)\n",
    "    \n",
    "    #상품 더 보기가 있다면 상품 더 보기 클릭\n",
    "    try :\n",
    "        driver.find_element_by_xpath(\"\"\"//*[@id=\"_btnMoreDealList\"]\"\"\").click( )\n",
    "    except :\n",
    "        pass\n",
    "\n",
    "    #scroll 마지막 길이 초기화\n",
    "    last_height = 0\n",
    "\n",
    "    #상품 목록 총 개수\n",
    "    total_count = driver.find_element_by_xpath('//*[@id=\"_dealSize\"]').text\n",
    "    print(\"product total count : {} \".format(total_count))\n",
    "\n",
    "    while True:\n",
    "        # 화면 최하단으로 스크롤 다운\n",
    "        driver.execute_script(\"window.scrollTo(0, document.body.scrollHeight);\")\n",
    "\n",
    "        # 페이지 로드를 기다림\n",
    "        time.sleep(SCROLL_PAUSE_TIME)\n",
    "        driver.execute_script(\"window.scrollTo(0, document.body.scrollHeight-50);\")\n",
    "        time.sleep(SCROLL_PAUSE_TIME)\n",
    "\n",
    "        # Calculate new scroll height and compare with last scroll height\n",
    "        new_height = driver.execute_script(\"return document.body.scrollHeight\")\n",
    "\n",
    "        # 새로운 높이가 이전 높이와 변하지 않았을 경우 스크롤 종료\n",
    "        if new_height == last_height:\n",
    "            break\n",
    "        \n",
    "        productInfoList = driver.find_elements_by_class_name('item')\n",
    "\n",
    "        # 스크롤 다운이 된다면 스크롤 다운이 된 후의 창 높이를 새로운 높이로 갱신\n",
    "        last_height = new_height \n",
    "        \n",
    "        #마지막 제품의 구매횟수가 0이라면 스크롤 종료\n",
    "        try :\n",
    "            if productInfoList[-9].find_element_by_class_name('buy_count').text == '' :\n",
    "                break\n",
    "        except :\n",
    "            break\n",
    "\n",
    "        print(\"{} scrolling : {}/{}\".format(category, len(productInfoList), total_count))\n",
    "        scroll_count += 200\n",
    "\n",
    "    #상품 리스트 불러오기    \n",
    "    productInfoList = driver.find_elements_by_class_name('item') \n",
    "\n",
    "    #상품 리스트 텍스트 파일로 저장\n",
    "    f = open('productUrlList_{}.txt'.format(category), mode='wt', encoding='utf-8')\n",
    "    for i in range(len(productInfoList)) :\n",
    "        pp2 = productInfoList[i].find_element_by_tag_name('a')\n",
    "        f.write(pp2.get_property('href') + '\\n')\n",
    "    f.close()"
   ]
  },
  {
   "cell_type": "code",
   "execution_count": null,
   "metadata": {},
   "outputs": [],
   "source": []
  }
 ],
 "metadata": {
  "kernelspec": {
   "display_name": "Python 3",
   "language": "python",
   "name": "python3"
  },
  "language_info": {
   "codemirror_mode": {
    "name": "ipython",
    "version": 3
   },
   "file_extension": ".py",
   "mimetype": "text/x-python",
   "name": "python",
   "nbconvert_exporter": "python",
   "pygments_lexer": "ipython3",
   "version": "3.7.6"
  },
  "toc": {
   "base_numbering": 1,
   "nav_menu": {},
   "number_sections": false,
   "sideBar": true,
   "skip_h1_title": false,
   "title_cell": "Table of Contents",
   "title_sidebar": "Contents",
   "toc_cell": false,
   "toc_position": {},
   "toc_section_display": true,
   "toc_window_display": false
  },
  "varInspector": {
   "cols": {
    "lenName": 16,
    "lenType": 16,
    "lenVar": 40
   },
   "kernels_config": {
    "python": {
     "delete_cmd_postfix": "",
     "delete_cmd_prefix": "del ",
     "library": "var_list.py",
     "varRefreshCmd": "print(var_dic_list())"
    },
    "r": {
     "delete_cmd_postfix": ") ",
     "delete_cmd_prefix": "rm(",
     "library": "var_list.r",
     "varRefreshCmd": "cat(var_dic_list()) "
    }
   },
   "position": {
    "height": "600px",
    "left": "554.76px",
    "right": "20px",
    "top": "88px",
    "width": "424px"
   },
   "types_to_exclude": [
    "module",
    "function",
    "builtin_function_or_method",
    "instance",
    "_Feature"
   ],
   "window_display": false
  }
 },
 "nbformat": 4,
 "nbformat_minor": 2
}
